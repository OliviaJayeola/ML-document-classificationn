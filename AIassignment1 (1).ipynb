{
  "cells": [
    {
      "cell_type": "markdown",
      "id": "6b17548c",
      "metadata": {
        "id": "6b17548c"
      },
      "source": [
        "# Document Classification of Computer Science Article Abstracts"
      ]
    },
    {
      "cell_type": "markdown",
      "id": "03432da3",
      "metadata": {
        "id": "03432da3"
      },
      "source": [
        "# 1. Introduction \n",
        "\n",
        "In this project I will be using a supervised learning algorithm to classify abstracts from different topics in computer science research. This will be a challanging task as the difference between abstracts in one field is nuanced, with a high degree of overlap between words or features meaning data is possibly co-linear. Therefore, this task will test the models ability to find differences in similar texts.\n",
        "\n",
        "\n",
        "\n"
      ]
    },
    {
      "cell_type": "markdown",
      "id": "cfd64ee6",
      "metadata": {
        "id": "cfd64ee6"
      },
      "source": [
        "# 2. Methodology"
      ]
    },
    {
      "cell_type": "markdown",
      "id": "751ba1c0",
      "metadata": {
        "id": "751ba1c0"
      },
      "source": [
        "## 2.1 Webscraping abstracts"
      ]
    },
    {
      "cell_type": "code",
      "source": [
        "# Due to the large amount of requests, I executed this code in a seperate notebook and created a csv file\n",
        "# below is the code used to create this file\n",
        "\n",
        "#import requests\n",
        "#from bs4 import BeautifulSoup as btfs\n",
        "#import re \n",
        "#abstracts = []\n",
        "\n",
        "#def webscrape(part1,part2):\n",
        "    #count = 0\n",
        "    #for i in range(0,201):\n",
        "        #html = requests.get('https://core.ac.uk/search?q='+part1+'+'+part2+\n",
        "                            #'+AND+fieldsOfStudy%3A\"computer+science\"&page='+str(i)).text\n",
        "        #soup = btfs(html,'html.parser')\n",
        "\n",
        "        #for link in soup.find_all('span'):\n",
        "            #if len(str(link)) > 600:\n",
        "                #text = btfs(str(link),\"lxml\").text\n",
        "                #if text[0] != 'ℓ':\n",
        "                    #if text[0] != '1':\n",
        "                        #abstracts.append(text[0:300])\n",
        "                        #count += 1\n",
        "    #print(count)"
      ],
      "metadata": {
        "id": "WEDjqXE6RMRh"
      },
      "id": "WEDjqXE6RMRh",
      "execution_count": null,
      "outputs": []
    },
    {
      "cell_type": "code",
      "source": [
        "# created a second webscraping function to start from page 200 as some topics \n",
        "# returned a lower number of abstracts but ended up getting 0 extra abstracts in some\n",
        "#def webscrape2(part1,part2):\n",
        "    #count = 0\n",
        "    #for i in range(201,502):\n",
        "        #html = requests.get('https://core.ac.uk/search?q='+part1+'+'+part2+\n",
        "                            #'+AND+fieldsOfStudy%3A\"computer+science\"&page='+str(i)).text\n",
        "        #soup = btfs(html,'html.parser')\n",
        "\n",
        "        #for link in soup.find_all('span'):\n",
        "            #if len(str(link)) > 600:\n",
        "                #text = btfs(str(link),\"lxml\").text\n",
        "                #if text[0] != 'ℓ':\n",
        "                    #if text[0] != '1':\n",
        "                        #abstracts.append(text[0:300])\n",
        "                        #count += 1\n",
        "    #print(count)"
      ],
      "metadata": {
        "id": "job4t_RpOcph"
      },
      "id": "job4t_RpOcph",
      "execution_count": null,
      "outputs": []
    },
    {
      "cell_type": "code",
      "source": [
        "#webscrape('reinforcement','learning') # returned 1248 abstracts"
      ],
      "metadata": {
        "id": "Bn1xh8K_Om71"
      },
      "id": "Bn1xh8K_Om71",
      "execution_count": null,
      "outputs": []
    },
    {
      "cell_type": "code",
      "source": [
        "#webscrape('supervised','learning') # returned 1399 abstracts"
      ],
      "metadata": {
        "id": "hfNbrZQPOtlo"
      },
      "id": "hfNbrZQPOtlo",
      "execution_count": null,
      "outputs": []
    },
    {
      "cell_type": "code",
      "source": [
        "#webscrape('unsupervised', 'learning') # returned 1223 abstracts"
      ],
      "metadata": {
        "id": "LSGwcySNOt3T"
      },
      "id": "LSGwcySNOt3T",
      "execution_count": null,
      "outputs": []
    },
    {
      "cell_type": "code",
      "source": [
        "#webscrape('inductive','learning') # returned 260 abstracts"
      ],
      "metadata": {
        "id": "sYCgNgN-Ot_H"
      },
      "id": "sYCgNgN-Ot_H",
      "execution_count": null,
      "outputs": []
    },
    {
      "cell_type": "code",
      "source": [
        "#webscrape('transfer','learning') # returned 879 abstracts"
      ],
      "metadata": {
        "id": "3lQdbyAIOuFo"
      },
      "id": "3lQdbyAIOuFo",
      "execution_count": null,
      "outputs": []
    },
    {
      "cell_type": "code",
      "source": [
        "#webscrape2('reinforcement','learning') # returned 0 extra abstracts"
      ],
      "metadata": {
        "id": "btvg8KjHOuLX"
      },
      "id": "btvg8KjHOuLX",
      "execution_count": null,
      "outputs": []
    },
    {
      "cell_type": "code",
      "source": [
        "#webscrape2('supervised','learning') # returned 917 abstracts"
      ],
      "metadata": {
        "id": "X2L9lbbLOuQj"
      },
      "id": "X2L9lbbLOuQj",
      "execution_count": null,
      "outputs": []
    },
    {
      "cell_type": "code",
      "source": [
        "#webscrape2('unsupervised', 'learning') # returned 606 abstracts"
      ],
      "metadata": {
        "id": "gR9wagXTOuWC"
      },
      "id": "gR9wagXTOuWC",
      "execution_count": null,
      "outputs": []
    },
    {
      "cell_type": "code",
      "source": [
        "#webscrape2('inductive','learning') # returned 0 extra abstracts"
      ],
      "metadata": {
        "id": "Bh1NuNxNOuat"
      },
      "id": "Bh1NuNxNOuat",
      "execution_count": null,
      "outputs": []
    },
    {
      "cell_type": "code",
      "source": [
        "#webscrape2('transfer','learning') # returned 1099 abstracts"
      ],
      "metadata": {
        "id": "OuPQHfvnOufZ"
      },
      "id": "OuPQHfvnOufZ",
      "execution_count": null,
      "outputs": []
    },
    {
      "cell_type": "code",
      "source": [
        "#labels = ['reinforcement learning' for i in range(1248)]\n",
        "#[labels.append('supervised learning') for i in range(1399)]\n",
        "#[labels.append('unsupervised learning') for i in range(1223)]\n",
        "#[labels.append('inductive learning') for i in range(260)]\n",
        "#[labels.append('transfer learning') for i in range(879)]\n",
        "#[labels.append('supervised learning') for i in range(917)]\n",
        "#[labels.append('unsupervised learning') for i in range(606)]\n",
        "#[labels.append('transfer learning') for i in range(1099)]"
      ],
      "metadata": {
        "id": "R3LDmintOujT"
      },
      "id": "R3LDmintOujT",
      "execution_count": null,
      "outputs": []
    },
    {
      "cell_type": "code",
      "source": [
        "#import pandas as pd\n",
        "#data = list(zip(labels,abstracts))\n",
        "#df = pd.DataFrame(data, columns=['Label','Abstract'])"
      ],
      "metadata": {
        "id": "PykOhPasOunk"
      },
      "id": "PykOhPasOunk",
      "execution_count": null,
      "outputs": []
    },
    {
      "cell_type": "code",
      "source": [
        "#df.to_csv('abstracts.csv', index=False)"
      ],
      "metadata": {
        "id": "52R4lfucOuqo"
      },
      "id": "52R4lfucOuqo",
      "execution_count": null,
      "outputs": []
    },
    {
      "cell_type": "markdown",
      "source": [
        "## 2.2 Preprocessing\n",
        "\n",
        "Word embeddings will be used instead of one hot encoding tokens as this method is computationally efficienct and will capture relationships between features [1].\n",
        "\n",
        "A word embedding is a vector of numbers which correspond to a word and its relationship to other words within the data. Word embeddings are learned within a neural network, although there are pre-trained word embeddings derived from large amounts of data.\n",
        "\n",
        "### 2.2.1 Abstracts dataframe"
      ],
      "metadata": {
        "id": "AIGsBqiyIeFK"
      },
      "id": "AIGsBqiyIeFK"
    },
    {
      "cell_type": "code",
      "source": [
        "# as I am just reading files I will use this method\n",
        "from google.colab import files\n",
        "import io\n",
        "\n",
        "uploaded = files.upload()\n"
      ],
      "metadata": {
        "colab": {
          "base_uri": "https://localhost:8080/",
          "height": 74
        },
        "id": "eyN7mqulSMBs",
        "outputId": "67be4685-2dae-4295-ad3f-38e0c9a7895f"
      },
      "id": "eyN7mqulSMBs",
      "execution_count": 1,
      "outputs": [
        {
          "output_type": "display_data",
          "data": {
            "text/plain": [
              "<IPython.core.display.HTML object>"
            ],
            "text/html": [
              "\n",
              "     <input type=\"file\" id=\"files-434afc70-d269-47ba-b400-576fb9eead5f\" name=\"files[]\" multiple disabled\n",
              "        style=\"border:none\" />\n",
              "     <output id=\"result-434afc70-d269-47ba-b400-576fb9eead5f\">\n",
              "      Upload widget is only available when the cell has been executed in the\n",
              "      current browser session. Please rerun this cell to enable.\n",
              "      </output>\n",
              "      <script>// Copyright 2017 Google LLC\n",
              "//\n",
              "// Licensed under the Apache License, Version 2.0 (the \"License\");\n",
              "// you may not use this file except in compliance with the License.\n",
              "// You may obtain a copy of the License at\n",
              "//\n",
              "//      http://www.apache.org/licenses/LICENSE-2.0\n",
              "//\n",
              "// Unless required by applicable law or agreed to in writing, software\n",
              "// distributed under the License is distributed on an \"AS IS\" BASIS,\n",
              "// WITHOUT WARRANTIES OR CONDITIONS OF ANY KIND, either express or implied.\n",
              "// See the License for the specific language governing permissions and\n",
              "// limitations under the License.\n",
              "\n",
              "/**\n",
              " * @fileoverview Helpers for google.colab Python module.\n",
              " */\n",
              "(function(scope) {\n",
              "function span(text, styleAttributes = {}) {\n",
              "  const element = document.createElement('span');\n",
              "  element.textContent = text;\n",
              "  for (const key of Object.keys(styleAttributes)) {\n",
              "    element.style[key] = styleAttributes[key];\n",
              "  }\n",
              "  return element;\n",
              "}\n",
              "\n",
              "// Max number of bytes which will be uploaded at a time.\n",
              "const MAX_PAYLOAD_SIZE = 100 * 1024;\n",
              "\n",
              "function _uploadFiles(inputId, outputId) {\n",
              "  const steps = uploadFilesStep(inputId, outputId);\n",
              "  const outputElement = document.getElementById(outputId);\n",
              "  // Cache steps on the outputElement to make it available for the next call\n",
              "  // to uploadFilesContinue from Python.\n",
              "  outputElement.steps = steps;\n",
              "\n",
              "  return _uploadFilesContinue(outputId);\n",
              "}\n",
              "\n",
              "// This is roughly an async generator (not supported in the browser yet),\n",
              "// where there are multiple asynchronous steps and the Python side is going\n",
              "// to poll for completion of each step.\n",
              "// This uses a Promise to block the python side on completion of each step,\n",
              "// then passes the result of the previous step as the input to the next step.\n",
              "function _uploadFilesContinue(outputId) {\n",
              "  const outputElement = document.getElementById(outputId);\n",
              "  const steps = outputElement.steps;\n",
              "\n",
              "  const next = steps.next(outputElement.lastPromiseValue);\n",
              "  return Promise.resolve(next.value.promise).then((value) => {\n",
              "    // Cache the last promise value to make it available to the next\n",
              "    // step of the generator.\n",
              "    outputElement.lastPromiseValue = value;\n",
              "    return next.value.response;\n",
              "  });\n",
              "}\n",
              "\n",
              "/**\n",
              " * Generator function which is called between each async step of the upload\n",
              " * process.\n",
              " * @param {string} inputId Element ID of the input file picker element.\n",
              " * @param {string} outputId Element ID of the output display.\n",
              " * @return {!Iterable<!Object>} Iterable of next steps.\n",
              " */\n",
              "function* uploadFilesStep(inputId, outputId) {\n",
              "  const inputElement = document.getElementById(inputId);\n",
              "  inputElement.disabled = false;\n",
              "\n",
              "  const outputElement = document.getElementById(outputId);\n",
              "  outputElement.innerHTML = '';\n",
              "\n",
              "  const pickedPromise = new Promise((resolve) => {\n",
              "    inputElement.addEventListener('change', (e) => {\n",
              "      resolve(e.target.files);\n",
              "    });\n",
              "  });\n",
              "\n",
              "  const cancel = document.createElement('button');\n",
              "  inputElement.parentElement.appendChild(cancel);\n",
              "  cancel.textContent = 'Cancel upload';\n",
              "  const cancelPromise = new Promise((resolve) => {\n",
              "    cancel.onclick = () => {\n",
              "      resolve(null);\n",
              "    };\n",
              "  });\n",
              "\n",
              "  // Wait for the user to pick the files.\n",
              "  const files = yield {\n",
              "    promise: Promise.race([pickedPromise, cancelPromise]),\n",
              "    response: {\n",
              "      action: 'starting',\n",
              "    }\n",
              "  };\n",
              "\n",
              "  cancel.remove();\n",
              "\n",
              "  // Disable the input element since further picks are not allowed.\n",
              "  inputElement.disabled = true;\n",
              "\n",
              "  if (!files) {\n",
              "    return {\n",
              "      response: {\n",
              "        action: 'complete',\n",
              "      }\n",
              "    };\n",
              "  }\n",
              "\n",
              "  for (const file of files) {\n",
              "    const li = document.createElement('li');\n",
              "    li.append(span(file.name, {fontWeight: 'bold'}));\n",
              "    li.append(span(\n",
              "        `(${file.type || 'n/a'}) - ${file.size} bytes, ` +\n",
              "        `last modified: ${\n",
              "            file.lastModifiedDate ? file.lastModifiedDate.toLocaleDateString() :\n",
              "                                    'n/a'} - `));\n",
              "    const percent = span('0% done');\n",
              "    li.appendChild(percent);\n",
              "\n",
              "    outputElement.appendChild(li);\n",
              "\n",
              "    const fileDataPromise = new Promise((resolve) => {\n",
              "      const reader = new FileReader();\n",
              "      reader.onload = (e) => {\n",
              "        resolve(e.target.result);\n",
              "      };\n",
              "      reader.readAsArrayBuffer(file);\n",
              "    });\n",
              "    // Wait for the data to be ready.\n",
              "    let fileData = yield {\n",
              "      promise: fileDataPromise,\n",
              "      response: {\n",
              "        action: 'continue',\n",
              "      }\n",
              "    };\n",
              "\n",
              "    // Use a chunked sending to avoid message size limits. See b/62115660.\n",
              "    let position = 0;\n",
              "    do {\n",
              "      const length = Math.min(fileData.byteLength - position, MAX_PAYLOAD_SIZE);\n",
              "      const chunk = new Uint8Array(fileData, position, length);\n",
              "      position += length;\n",
              "\n",
              "      const base64 = btoa(String.fromCharCode.apply(null, chunk));\n",
              "      yield {\n",
              "        response: {\n",
              "          action: 'append',\n",
              "          file: file.name,\n",
              "          data: base64,\n",
              "        },\n",
              "      };\n",
              "\n",
              "      let percentDone = fileData.byteLength === 0 ?\n",
              "          100 :\n",
              "          Math.round((position / fileData.byteLength) * 100);\n",
              "      percent.textContent = `${percentDone}% done`;\n",
              "\n",
              "    } while (position < fileData.byteLength);\n",
              "  }\n",
              "\n",
              "  // All done.\n",
              "  yield {\n",
              "    response: {\n",
              "      action: 'complete',\n",
              "    }\n",
              "  };\n",
              "}\n",
              "\n",
              "scope.google = scope.google || {};\n",
              "scope.google.colab = scope.google.colab || {};\n",
              "scope.google.colab._files = {\n",
              "  _uploadFiles,\n",
              "  _uploadFilesContinue,\n",
              "};\n",
              "})(self);\n",
              "</script> "
            ]
          },
          "metadata": {}
        },
        {
          "output_type": "stream",
          "name": "stdout",
          "text": [
            "Saving abstracts.csv to abstracts.csv\n"
          ]
        }
      ]
    },
    {
      "cell_type": "code",
      "source": [
        "import pandas as pd\n",
        "import numpy as np\n",
        "\n",
        "df = pd.read_csv(io.BytesIO(uploaded['abstracts.csv']))"
      ],
      "metadata": {
        "id": "9bKzIeG8chTM"
      },
      "id": "9bKzIeG8chTM",
      "execution_count": 2,
      "outputs": []
    },
    {
      "cell_type": "code",
      "source": [
        "print(df)"
      ],
      "metadata": {
        "colab": {
          "base_uri": "https://localhost:8080/"
        },
        "id": "tCWf0rr6c7Z_",
        "outputId": "1c1c72a0-5427-432f-d280-ef669f2d5a93"
      },
      "id": "tCWf0rr6c7Z_",
      "execution_count": 3,
      "outputs": [
        {
          "output_type": "stream",
          "name": "stdout",
          "text": [
            "                       Label  \\\n",
            "0     reinforcement learning   \n",
            "1     reinforcement learning   \n",
            "2     reinforcement learning   \n",
            "3     reinforcement learning   \n",
            "4     reinforcement learning   \n",
            "...                      ...   \n",
            "7626       transfer learning   \n",
            "7627       transfer learning   \n",
            "7628       transfer learning   \n",
            "7629       transfer learning   \n",
            "7630       transfer learning   \n",
            "\n",
            "                                               Abstract  \n",
            "0     In this article we study the transfer learning...  \n",
            "1     Cross-situational word learning is based on th...  \n",
            "2     In recent years, attention has been focused on...  \n",
            "3     Reinforcement learning is considered to be a s...  \n",
            "4     Join order selection plays a significant role ...  \n",
            "...                                                 ...  \n",
            "7626  The multiple ideal query (MIQ) model was intro...  \n",
            "7627  Evaluation of business processes plays a signi...  \n",
            "7628  The design process of complex systems in all t...  \n",
            "7629  The mobile data traffic has risen exponentiall...  \n",
            "7630  A software framework is an architecture or inf...  \n",
            "\n",
            "[7631 rows x 2 columns]\n"
          ]
        }
      ]
    },
    {
      "cell_type": "code",
      "source": [
        "# creates a new column label_type which corresponds to values in label column\n",
        "# There are 5 classes\n",
        "\n",
        "labeldict = {'reinforcement learning':0,'supervised learning':1,'unsupervised learning':2,'inductive learning':3,'transfer learning':4}\n",
        "\n",
        "# for each row in the new column, if the corresponding row in Label is a key in the dictionary the row in the new column will be set to \n",
        "# the value of the matching key, if not it will be set to 5\n",
        "for i in range(len(df)):\n",
        "  df.loc[i,'label_type'] = np.where(df.loc[i,'Label'] in labeldict.keys(), labeldict[str(df.loc[i,'Label'])], 5)\n"
      ],
      "metadata": {
        "id": "q94wKHf_nrmo"
      },
      "id": "q94wKHf_nrmo",
      "execution_count": 4,
      "outputs": []
    },
    {
      "cell_type": "code",
      "source": [
        "# check that everything was coded correctly, there are no rows with a 5\n",
        "print(df.loc[df['label_type']==0])\n",
        "print(df.loc[df['label_type']==1])\n",
        "print(df.loc[df['label_type']==2])\n",
        "print(df.loc[df['label_type']==3])\n",
        "print(df.loc[df['label_type']==4])\n",
        "print(df.loc[df['label_type']==5])\n",
        " "
      ],
      "metadata": {
        "colab": {
          "base_uri": "https://localhost:8080/"
        },
        "id": "n1NCLPIL8lwz",
        "outputId": "aee4d018-eef1-42ef-d4cd-850a3b075a00"
      },
      "id": "n1NCLPIL8lwz",
      "execution_count": 5,
      "outputs": [
        {
          "output_type": "stream",
          "name": "stdout",
          "text": [
            "                       Label  \\\n",
            "0     reinforcement learning   \n",
            "1     reinforcement learning   \n",
            "2     reinforcement learning   \n",
            "3     reinforcement learning   \n",
            "4     reinforcement learning   \n",
            "...                      ...   \n",
            "1243  reinforcement learning   \n",
            "1244  reinforcement learning   \n",
            "1245  reinforcement learning   \n",
            "1246  reinforcement learning   \n",
            "1247  reinforcement learning   \n",
            "\n",
            "                                               Abstract  label_type  \n",
            "0     In this article we study the transfer learning...         0.0  \n",
            "1     Cross-situational word learning is based on th...         0.0  \n",
            "2     In recent years, attention has been focused on...         0.0  \n",
            "3     Reinforcement learning is considered to be a s...         0.0  \n",
            "4     Join order selection plays a significant role ...         0.0  \n",
            "...                                                 ...         ...  \n",
            "1243  The quality of the material collected by a con...         0.0  \n",
            "1244  Manipulators based on soft robotic technologie...         0.0  \n",
            "1245  Self-aware computer systems will be capable of...         0.0  \n",
            "1246  In a self-organized Long Term Evolution (LTE) ...         0.0  \n",
            "1247  Abstract In the present scenario, the term wir...         0.0  \n",
            "\n",
            "[1248 rows x 3 columns]\n",
            "                    Label                                           Abstract  \\\n",
            "1248  supervised learning  Deep learning usually requires large amounts o...   \n",
            "1249  supervised learning  Collecting quality data from software projects...   \n",
            "1250  supervised learning  We propose a quantum machine learning algorith...   \n",
            "1251  supervised learning  Ladder networks are a notable new concept in t...   \n",
            "1252  supervised learning  Fast nearest neighbor search is becoming more ...   \n",
            "...                   ...                                                ...   \n",
            "5921  supervised learning  Process mining techniques focus on extracting ...   \n",
            "5922  supervised learning  The task of gene regulatory network reconstruc...   \n",
            "5923  supervised learning  Abstract Sparse coding and supervised dictiona...   \n",
            "5924  supervised learning  Objective To investigate: (1) the annotation t...   \n",
            "5925  supervised learning  The growing need to analyze large collections ...   \n",
            "\n",
            "      label_type  \n",
            "1248         1.0  \n",
            "1249         1.0  \n",
            "1250         1.0  \n",
            "1251         1.0  \n",
            "1252         1.0  \n",
            "...          ...  \n",
            "5921         1.0  \n",
            "5922         1.0  \n",
            "5923         1.0  \n",
            "5924         1.0  \n",
            "5925         1.0  \n",
            "\n",
            "[2316 rows x 3 columns]\n",
            "                      Label  \\\n",
            "2647  unsupervised learning   \n",
            "2648  unsupervised learning   \n",
            "2649  unsupervised learning   \n",
            "2650  unsupervised learning   \n",
            "2651  unsupervised learning   \n",
            "...                     ...   \n",
            "6527  unsupervised learning   \n",
            "6528  unsupervised learning   \n",
            "6529  unsupervised learning   \n",
            "6530  unsupervised learning   \n",
            "6531  unsupervised learning   \n",
            "\n",
            "                                               Abstract  label_type  \n",
            "2647  Collecting quality data from software projects...         2.0  \n",
            "2648  Purpose To investigate whether nonlinear dimen...         2.0  \n",
            "2649  Synapses in real neural circuits can take disc...         2.0  \n",
            "2650  Despite several approaches to realize subject-...         2.0  \n",
            "2651  Objective. Most BCIs have to undergo a calibra...         2.0  \n",
            "...                                                 ...         ...  \n",
            "6527  Location-based social networks (LBSNs) have re...         2.0  \n",
            "6528  <div><p>The NIF Registry developed and maintai...         2.0  \n",
            "6529  International audienceCo-expression networks a...         2.0  \n",
            "6530  International audienceThe high density of on-c...         2.0  \n",
            "6531  Intelligent Information Access techniques atte...         2.0  \n",
            "\n",
            "[1829 rows x 3 columns]\n",
            "                   Label                                           Abstract  \\\n",
            "3870  inductive learning  This paper contributes to the area of inductiv...   \n",
            "3871  inductive learning  We introduce kLog, a novel approach to statist...   \n",
            "3872  inductive learning  The scope of the Baldwin effect was recently c...   \n",
            "3873  inductive learning  Every designer of a new data structure wants t...   \n",
            "3874  inductive learning  Multi-instance (MI) learning is a variant of i...   \n",
            "...                  ...                                                ...   \n",
            "4125  inductive learning  The elementary formal system (EFS) is a kind o...   \n",
            "4126  inductive learning  Part 4: First Conformal Prediction and Its App...   \n",
            "4127  inductive learning  The paper focuses on the task of approximate c...   \n",
            "4128  inductive learning  Part 12: FuzzyInternational audienceThe rule i...   \n",
            "4129  inductive learning  Meta-interpretive learning (MIL) is a form of ...   \n",
            "\n",
            "      label_type  \n",
            "3870         3.0  \n",
            "3871         3.0  \n",
            "3872         3.0  \n",
            "3873         3.0  \n",
            "3874         3.0  \n",
            "...          ...  \n",
            "4125         3.0  \n",
            "4126         3.0  \n",
            "4127         3.0  \n",
            "4128         3.0  \n",
            "4129         3.0  \n",
            "\n",
            "[260 rows x 3 columns]\n",
            "                  Label                                           Abstract  \\\n",
            "4130  transfer learning  Knowledge transfer impacts the performance of ...   \n",
            "4131  transfer learning  We study the binary transfer learning problem,...   \n",
            "4132  transfer learning  Objective. Most BCIs have to undergo a calibra...   \n",
            "4133  transfer learning  Humans are generally good at learning abstract...   \n",
            "4134  transfer learning  Recurrent neural networks (RNNs), particularly...   \n",
            "...                 ...                                                ...   \n",
            "7626  transfer learning  The multiple ideal query (MIQ) model was intro...   \n",
            "7627  transfer learning  Evaluation of business processes plays a signi...   \n",
            "7628  transfer learning  The design process of complex systems in all t...   \n",
            "7629  transfer learning  The mobile data traffic has risen exponentiall...   \n",
            "7630  transfer learning  A software framework is an architecture or inf...   \n",
            "\n",
            "      label_type  \n",
            "4130         4.0  \n",
            "4131         4.0  \n",
            "4132         4.0  \n",
            "4133         4.0  \n",
            "4134         4.0  \n",
            "...          ...  \n",
            "7626         4.0  \n",
            "7627         4.0  \n",
            "7628         4.0  \n",
            "7629         4.0  \n",
            "7630         4.0  \n",
            "\n",
            "[1978 rows x 3 columns]\n",
            "Empty DataFrame\n",
            "Columns: [Label, Abstract, label_type]\n",
            "Index: []\n"
          ]
        }
      ]
    },
    {
      "cell_type": "code",
      "source": [
        "def r(data):\n",
        "  import random\n",
        "  return random.randint(0,len(data))\n",
        "\n",
        "# to double check that length of abstracts were sliced correctly (300 words) \n",
        "# I printed the length of 20 random abstracts\n",
        "\n",
        "[print(len(df.iloc[r(df),1])) for i in range(20)]\n"
      ],
      "metadata": {
        "id": "_0siOhQlHees",
        "colab": {
          "base_uri": "https://localhost:8080/"
        },
        "outputId": "7a82bc8b-f50f-44b8-c357-b537ec5b5f4c"
      },
      "id": "_0siOhQlHees",
      "execution_count": 59,
      "outputs": [
        {
          "output_type": "stream",
          "name": "stdout",
          "text": [
            "300\n",
            "300\n",
            "300\n",
            "300\n",
            "300\n",
            "300\n",
            "300\n",
            "300\n",
            "300\n",
            "300\n",
            "300\n",
            "300\n",
            "300\n",
            "300\n",
            "300\n",
            "300\n",
            "300\n",
            "300\n",
            "300\n",
            "300\n"
          ]
        },
        {
          "output_type": "execute_result",
          "data": {
            "text/plain": [
              "[None,\n",
              " None,\n",
              " None,\n",
              " None,\n",
              " None,\n",
              " None,\n",
              " None,\n",
              " None,\n",
              " None,\n",
              " None,\n",
              " None,\n",
              " None,\n",
              " None,\n",
              " None,\n",
              " None,\n",
              " None,\n",
              " None,\n",
              " None,\n",
              " None,\n",
              " None]"
            ]
          },
          "metadata": {},
          "execution_count": 59
        }
      ]
    },
    {
      "cell_type": "code",
      "source": [
        "from keras.preprocessing.text import Tokenizer\n",
        "from keras_preprocessing.sequence import pad_sequences\n",
        "from math import trunc\n",
        "\n",
        "abstracts = list(df['Abstract'])\n",
        "\n",
        "tokenizer = Tokenizer() # as there is not much data I have not passed the num_words argument\n",
        "tokenizer.fit_on_texts(abstracts) # builds word index \n",
        "sequences = tokenizer.texts_to_sequences(abstracts) # turns each string in abstracts into a sequence/list of integers that correspond to each word in word index\n",
        "\n",
        "word_index = tokenizer.word_index\n",
        "print(f'Found {len(word_index)} unique tokens') # 17679 unique tokens were found which means there is a vocabulary of 17679 unique words in abstracts\n"
      ],
      "metadata": {
        "colab": {
          "base_uri": "https://localhost:8080/"
        },
        "id": "Eurs9Gb9KU5K",
        "outputId": "0206734f-8a2d-4c86-bbbe-2d4a7a0ae337"
      },
      "id": "Eurs9Gb9KU5K",
      "execution_count": 6,
      "outputs": [
        {
          "output_type": "stream",
          "name": "stdout",
          "text": [
            "Found 17679 unique tokens\n"
          ]
        }
      ]
    },
    {
      "cell_type": "code",
      "source": [
        "# as there are 100 values for each word in the glove word embeddings, sequences will be padded to 100\n",
        "maxlen = 100\n",
        "data = pad_sequences(sequences, maxlen=maxlen) \n",
        "\n",
        "labels = np.asarray(df['label_type']) \n",
        "print(f'Shape of data tensor: {data.shape}') # 7631 rows of sequences with 61 tokens for each sequence (rank 2 tensor)\n",
        "print(f'Shape of label tensor: {labels.shape}') # 7631 labels (rank 1 tensor)\n",
        "\n"
      ],
      "metadata": {
        "colab": {
          "base_uri": "https://localhost:8080/"
        },
        "id": "Rwaew7bsnFrh",
        "outputId": "83d82876-4a8b-461d-9c1e-cd7fa47bda8e"
      },
      "id": "Rwaew7bsnFrh",
      "execution_count": 7,
      "outputs": [
        {
          "output_type": "stream",
          "name": "stdout",
          "text": [
            "Shape of data tensor: (7631, 100)\n",
            "Shape of label tensor: (7631,)\n"
          ]
        }
      ]
    },
    {
      "cell_type": "code",
      "source": [
        "# creates array of numbers ranging from 0 to the amount of rows in data and uses \n",
        "# them to shuffle data and labels while keeping the correct labels with data\n",
        "indices = np.arange(data.shape[0]) \n",
        "np.random.shuffle(indices) \n",
        "training_samples = trunc(len(df)*2/3) \n",
        "validation_samples = trunc(len(df)*1/6)\n",
        "\n",
        "\n",
        "data = data[indices]\n",
        "labels = labels[indices]\n",
        "\n",
        "x_train = data[:training_samples]\n",
        "y_train = labels[:training_samples]\n",
        "\n",
        "x_val = data[training_samples:training_samples+validation_samples+1]\n",
        "y_val = labels[training_samples:training_samples+validation_samples+1]\n",
        "\n",
        "x_test = data[training_samples+validation_samples+1:training_samples+validation_samples+1+validation_samples]\n",
        "y_test = labels[training_samples+validation_samples+1:training_samples+validation_samples+1+validation_samples]"
      ],
      "metadata": {
        "id": "cbs2RKLy01Se"
      },
      "id": "cbs2RKLy01Se",
      "execution_count": 101,
      "outputs": []
    },
    {
      "cell_type": "code",
      "source": [],
      "metadata": {
        "colab": {
          "base_uri": "https://localhost:8080/"
        },
        "id": "KZaQSotO7B_9",
        "outputId": "d9d362a7-c1d1-4136-8787-47bed9410193"
      },
      "id": "KZaQSotO7B_9",
      "execution_count": 83,
      "outputs": [
        {
          "output_type": "execute_result",
          "data": {
            "text/plain": [
              "7630"
            ]
          },
          "metadata": {},
          "execution_count": 83
        }
      ]
    },
    {
      "cell_type": "markdown",
      "source": [
        "### 2.2.2 Pretrained word embedding\n",
        "\n",
        "As the abstracts data is domain specific the algorithm may reach higher accuracy with task-specific word embeddings generated from scratch. Conversely, there is not much data so using pre-trained word embeddings may lead to higher accuracy. \n",
        "\n",
        "Both methods will be tested and hyperparameters of the best performing model will be adjusted for improved accuracy."
      ],
      "metadata": {
        "id": "ub3xhzQq8qXX"
      },
      "id": "ub3xhzQq8qXX"
    },
    {
      "cell_type": "code",
      "source": [
        "from google.colab import files\n",
        "import io\n",
        "\n",
        "uploaded = files.upload()"
      ],
      "metadata": {
        "colab": {
          "base_uri": "https://localhost:8080/",
          "height": 74
        },
        "id": "V7G3dQfxHF5O",
        "outputId": "ca4b51a0-3d21-4824-9dcc-6a6817de925e"
      },
      "id": "V7G3dQfxHF5O",
      "execution_count": 9,
      "outputs": [
        {
          "output_type": "display_data",
          "data": {
            "text/plain": [
              "<IPython.core.display.HTML object>"
            ],
            "text/html": [
              "\n",
              "     <input type=\"file\" id=\"files-6083a4a9-f395-4bf5-806b-b59ca8bc081c\" name=\"files[]\" multiple disabled\n",
              "        style=\"border:none\" />\n",
              "     <output id=\"result-6083a4a9-f395-4bf5-806b-b59ca8bc081c\">\n",
              "      Upload widget is only available when the cell has been executed in the\n",
              "      current browser session. Please rerun this cell to enable.\n",
              "      </output>\n",
              "      <script>// Copyright 2017 Google LLC\n",
              "//\n",
              "// Licensed under the Apache License, Version 2.0 (the \"License\");\n",
              "// you may not use this file except in compliance with the License.\n",
              "// You may obtain a copy of the License at\n",
              "//\n",
              "//      http://www.apache.org/licenses/LICENSE-2.0\n",
              "//\n",
              "// Unless required by applicable law or agreed to in writing, software\n",
              "// distributed under the License is distributed on an \"AS IS\" BASIS,\n",
              "// WITHOUT WARRANTIES OR CONDITIONS OF ANY KIND, either express or implied.\n",
              "// See the License for the specific language governing permissions and\n",
              "// limitations under the License.\n",
              "\n",
              "/**\n",
              " * @fileoverview Helpers for google.colab Python module.\n",
              " */\n",
              "(function(scope) {\n",
              "function span(text, styleAttributes = {}) {\n",
              "  const element = document.createElement('span');\n",
              "  element.textContent = text;\n",
              "  for (const key of Object.keys(styleAttributes)) {\n",
              "    element.style[key] = styleAttributes[key];\n",
              "  }\n",
              "  return element;\n",
              "}\n",
              "\n",
              "// Max number of bytes which will be uploaded at a time.\n",
              "const MAX_PAYLOAD_SIZE = 100 * 1024;\n",
              "\n",
              "function _uploadFiles(inputId, outputId) {\n",
              "  const steps = uploadFilesStep(inputId, outputId);\n",
              "  const outputElement = document.getElementById(outputId);\n",
              "  // Cache steps on the outputElement to make it available for the next call\n",
              "  // to uploadFilesContinue from Python.\n",
              "  outputElement.steps = steps;\n",
              "\n",
              "  return _uploadFilesContinue(outputId);\n",
              "}\n",
              "\n",
              "// This is roughly an async generator (not supported in the browser yet),\n",
              "// where there are multiple asynchronous steps and the Python side is going\n",
              "// to poll for completion of each step.\n",
              "// This uses a Promise to block the python side on completion of each step,\n",
              "// then passes the result of the previous step as the input to the next step.\n",
              "function _uploadFilesContinue(outputId) {\n",
              "  const outputElement = document.getElementById(outputId);\n",
              "  const steps = outputElement.steps;\n",
              "\n",
              "  const next = steps.next(outputElement.lastPromiseValue);\n",
              "  return Promise.resolve(next.value.promise).then((value) => {\n",
              "    // Cache the last promise value to make it available to the next\n",
              "    // step of the generator.\n",
              "    outputElement.lastPromiseValue = value;\n",
              "    return next.value.response;\n",
              "  });\n",
              "}\n",
              "\n",
              "/**\n",
              " * Generator function which is called between each async step of the upload\n",
              " * process.\n",
              " * @param {string} inputId Element ID of the input file picker element.\n",
              " * @param {string} outputId Element ID of the output display.\n",
              " * @return {!Iterable<!Object>} Iterable of next steps.\n",
              " */\n",
              "function* uploadFilesStep(inputId, outputId) {\n",
              "  const inputElement = document.getElementById(inputId);\n",
              "  inputElement.disabled = false;\n",
              "\n",
              "  const outputElement = document.getElementById(outputId);\n",
              "  outputElement.innerHTML = '';\n",
              "\n",
              "  const pickedPromise = new Promise((resolve) => {\n",
              "    inputElement.addEventListener('change', (e) => {\n",
              "      resolve(e.target.files);\n",
              "    });\n",
              "  });\n",
              "\n",
              "  const cancel = document.createElement('button');\n",
              "  inputElement.parentElement.appendChild(cancel);\n",
              "  cancel.textContent = 'Cancel upload';\n",
              "  const cancelPromise = new Promise((resolve) => {\n",
              "    cancel.onclick = () => {\n",
              "      resolve(null);\n",
              "    };\n",
              "  });\n",
              "\n",
              "  // Wait for the user to pick the files.\n",
              "  const files = yield {\n",
              "    promise: Promise.race([pickedPromise, cancelPromise]),\n",
              "    response: {\n",
              "      action: 'starting',\n",
              "    }\n",
              "  };\n",
              "\n",
              "  cancel.remove();\n",
              "\n",
              "  // Disable the input element since further picks are not allowed.\n",
              "  inputElement.disabled = true;\n",
              "\n",
              "  if (!files) {\n",
              "    return {\n",
              "      response: {\n",
              "        action: 'complete',\n",
              "      }\n",
              "    };\n",
              "  }\n",
              "\n",
              "  for (const file of files) {\n",
              "    const li = document.createElement('li');\n",
              "    li.append(span(file.name, {fontWeight: 'bold'}));\n",
              "    li.append(span(\n",
              "        `(${file.type || 'n/a'}) - ${file.size} bytes, ` +\n",
              "        `last modified: ${\n",
              "            file.lastModifiedDate ? file.lastModifiedDate.toLocaleDateString() :\n",
              "                                    'n/a'} - `));\n",
              "    const percent = span('0% done');\n",
              "    li.appendChild(percent);\n",
              "\n",
              "    outputElement.appendChild(li);\n",
              "\n",
              "    const fileDataPromise = new Promise((resolve) => {\n",
              "      const reader = new FileReader();\n",
              "      reader.onload = (e) => {\n",
              "        resolve(e.target.result);\n",
              "      };\n",
              "      reader.readAsArrayBuffer(file);\n",
              "    });\n",
              "    // Wait for the data to be ready.\n",
              "    let fileData = yield {\n",
              "      promise: fileDataPromise,\n",
              "      response: {\n",
              "        action: 'continue',\n",
              "      }\n",
              "    };\n",
              "\n",
              "    // Use a chunked sending to avoid message size limits. See b/62115660.\n",
              "    let position = 0;\n",
              "    do {\n",
              "      const length = Math.min(fileData.byteLength - position, MAX_PAYLOAD_SIZE);\n",
              "      const chunk = new Uint8Array(fileData, position, length);\n",
              "      position += length;\n",
              "\n",
              "      const base64 = btoa(String.fromCharCode.apply(null, chunk));\n",
              "      yield {\n",
              "        response: {\n",
              "          action: 'append',\n",
              "          file: file.name,\n",
              "          data: base64,\n",
              "        },\n",
              "      };\n",
              "\n",
              "      let percentDone = fileData.byteLength === 0 ?\n",
              "          100 :\n",
              "          Math.round((position / fileData.byteLength) * 100);\n",
              "      percent.textContent = `${percentDone}% done`;\n",
              "\n",
              "    } while (position < fileData.byteLength);\n",
              "  }\n",
              "\n",
              "  // All done.\n",
              "  yield {\n",
              "    response: {\n",
              "      action: 'complete',\n",
              "    }\n",
              "  };\n",
              "}\n",
              "\n",
              "scope.google = scope.google || {};\n",
              "scope.google.colab = scope.google.colab || {};\n",
              "scope.google.colab._files = {\n",
              "  _uploadFiles,\n",
              "  _uploadFilesContinue,\n",
              "};\n",
              "})(self);\n",
              "</script> "
            ]
          },
          "metadata": {}
        },
        {
          "output_type": "stream",
          "name": "stdout",
          "text": [
            "Saving glove.6B.100d.txt to glove.6B.100d.txt\n"
          ]
        }
      ]
    },
    {
      "cell_type": "code",
      "source": [
        "# every line in the file is split by whitespace, the embeddings_index dictionary\n",
        "# is updated with the word (which is the first value in each line) as a key and \n",
        "# the rest of the line is the word embedding and value\n",
        "f = open('glove.6B.100d.txt','r')\n",
        "f = f.readlines()\n",
        "embeddings_index = {}\n",
        "\n",
        "for line in f:\n",
        "  values = line.split()\n",
        "  word = values[0]\n",
        "  coefs = np.asarray(values[1:], dtype='float32')\n",
        "  embeddings_index[word] = coefs\n",
        "\n",
        "\n",
        "print(f'Found {len(embeddings_index)} word vectors')\n"
      ],
      "metadata": {
        "colab": {
          "base_uri": "https://localhost:8080/"
        },
        "id": "3i3A5neQ85za",
        "outputId": "3a53b00d-b37f-4eb8-fde4-6a475037d1c7"
      },
      "id": "3i3A5neQ85za",
      "execution_count": 10,
      "outputs": [
        {
          "output_type": "stream",
          "name": "stdout",
          "text": [
            "Found 400000 word vectors\n"
          ]
        }
      ]
    },
    {
      "cell_type": "code",
      "source": [
        "import itertools as it\n",
        "\n",
        "embedding_dim = maxlen\n",
        "max_words = len(word_index)\n",
        "\n",
        "# an embedding matrix is formed using tokens from the abstracts word index\n",
        "embedding_matrix = np.zeros((max_words, embedding_dim))\n",
        "for word, i in word_index.items():\n",
        "  embedding_vector = embeddings_index.get(word) # token from word_index is used to get the embedding vector of said token from embeddings_index dict\n",
        "  if i < max_words:\n",
        "    if embedding_vector is not None: # words not found in embeddings_index will be kept as zeros\n",
        "      embedding_matrix[i] = embedding_vector \n",
        "      # each row of embedding_matrix corresponds to 100 dim vector of pre-trained word embedding for words in abstracts\n"
      ],
      "metadata": {
        "id": "3d429n3GIg2F"
      },
      "id": "3d429n3GIg2F",
      "execution_count": 11,
      "outputs": []
    },
    {
      "cell_type": "markdown",
      "source": [
        "## 2.3 Deep learning models"
      ],
      "metadata": {
        "id": "yYqU2BNURSp-"
      },
      "id": "yYqU2BNURSp-"
    },
    {
      "cell_type": "markdown",
      "source": [
        "### 2.3.1 Error analysis\n",
        "Using max_words = 17679, which is the amount of words in the vocabularly of the abstracts data, led to an error (indices[5,72] = 17679 is not in [0, 17679]).  A value of 17679 would not be in [0,17679] as this is a non-inclusive interval, so the interval would need to be changed to 17680 or this value would need to be removed. \n",
        "\n",
        "I checked this index for both the data and embedding matrix and neither were 17679. I also checked the word_index dictionary to find the maximum value, which is indeed 17679. I considered finding the row/rows that had this number and changing them to zeros but decided on a method that would lead to the least information loss, also, the indices array I created is one dimensional so I assume that the indices of this error is referring to one of the layers of the model so deleting the values from the data may not have solved the problem.\n",
        "\n",
        "I made the input_dim 17680 (max_words+1) and added an extra row of zeros to the embedding matrix/weight matrix to accomodate value 17679, which fixed the error. "
      ],
      "metadata": {
        "id": "DPcluWwgSgVy"
      },
      "id": "DPcluWwgSgVy"
    },
    {
      "cell_type": "markdown",
      "source": [
        "### 2.3.2 Model 1\n",
        "\n",
        "This model will utilise a mini-batch supervised learning algorithm to learn a function that seperates sequences of word embedding vectors into 5 different classes/categories. The parameters of this function, the weights, are what the algorithm will adjust to fit the data.\n",
        "\n",
        "Model 1 = $ f(x) = \\sigma ({\\textbf{W}}_{ix}^{3}(R({\\textbf{I}}_{ij}{\\textbf{W}}_{ik}^{2}))) $\n",
        "\n",
        "where:\n",
        "\n",
        "j = flattened matrix = $ {\\textbf{I}}_{ij}{\\textbf{W}}_{j*}^{1} \\hspace{0.25cm} $ j* = all columns of jth row $ \\hspace{0.25cm} {\\textbf{W}}^{1} $ = n x 100 pre-trained word embedding matrix\n",
        "\n",
        "W = weight = kernel \n",
        "\n",
        "I = input = n x 100 sequence matrix\n",
        "\n",
        "$ \\sigma $ = softmax\n",
        "\n",
        "R = ReLu\n",
        "\n",
        "\n",
        "# Forward propagation\n",
        "\n",
        "## Input layer\n",
        "\n",
        "The input layer is an embedding layer, so weights at this layer consist of a matrix where the row/embedding at index j corresponds to the jth word index in the sequence matrix. Weights at this layer are pretrained and are not updated during gradient descent. \n",
        "\n",
        "The matrix is flattened which multiplies the word indicies for each sequence with their corresponding embedding. \n",
        "\n",
        "## Hidden layer\n",
        "\n",
        "The input matrix is multipled by a randomly generated weight matrix of dimension n x 32 which transforms the input to an n x 32 dimension matrix.\n",
        "\n",
        "A ReLu activation function is then applied to the matrix at this layer\n",
        "\n",
        "ReLu essentially activates the non-linear relationship between the inputs and corresponding outputs which creates a differentiable non-linear function with local and global minima that allow the function to be optimized\n",
        "\n",
        "## Output layer\n",
        "\n",
        "At the output layer the incoming matrix is multipled by an n x 5 matrix of random values, a softmax function is then applied which outputs values between 0 and 1. These values correspond to the probability that the given sequence belongs to each class.\n",
        "\n",
        "\n",
        "# Backwards Propagation\n",
        "\n",
        "On the first epoch the output will be the result of random weight initializations (which are random small numbers sampled from a uniform distribution by default)\n",
        "\n",
        "This model utilises root mean squared propagation (rmsprop) with sparse categorical crossentropy (scc) to calculate the loss/error. Scc was chosen due to there being 5 integer classes rather than 2 binary classes or one hot encoded classes. Scc calculates how much the actual output deviated from the desired output by calculated the negative log-liklihood or cross entropy [2]. Rmsprop updates weights by adjusting the learning rate according to a moving average of derivatives of parameters, so the algorithm will converge to a local or global minima faster [3]. The learning rate, $ \\alpha $ , is thus multiplied by $ \\frac{dW}{\\sqrt{S_{dW}+\\epsilon }} $\n",
        "\n",
        "where:\n",
        "\n",
        "$ dW $ = derivative of weights with respect to the error at this layer\n",
        "\n",
        "$ S_{dW} $ = moving average of derivatives = $ \\beta S_{dW} + (1-\\beta )dW^{2} $\n",
        "\n",
        "$ \\epsilon $ = a very small number that prevents the equation from yielding an imaginary number\n",
        "\n",
        "So the model will backpropgate through each layer (except the input layer which has pre-trained weights) to find the derivative of the weights with respect to the error, which is an estimation for how much each weight contributed to the error. The error is calculated via sparse categorical crossentropy (as embeddings with float values have been used rather than one hot encoding of words). \n",
        "\n",
        "## Backprop - Output layer\n",
        "\n",
        "The error is calculated via categorical cross entropy\n",
        "\n",
        "E = $ -\\sum_{i=1}^{n} y_{i}log(\\hat{y}_{i}) $\n",
        "\n",
        "where:\n",
        "\n",
        "n = number of classes\n",
        "\n",
        "$ y_{i} $ = desired outputs for each sample\n",
        "\n",
        "$ \\hat{y}_{i} $ = actual outputs for each sample\n",
        "\n",
        "Weights are updated via rmsprop\n",
        "\n",
        "$ W_{i}^{3} = W_{i}^{3} - \\alpha \\frac{dW_{i}^{3}}{\\sqrt{S_{dW_{i}^{3}}+\\epsilon }} $\n",
        "\n",
        "$ dW_{i}^{3} $ is found using the derivative of the softmax function\n",
        "\n",
        "## Backprop - Hidden layer\n",
        "\n",
        "\n",
        "$ W_{i}^{2} = W_{i}^{2} - \\alpha \\frac{dW}{\\sqrt{S_{dW}+\\epsilon }} $\n",
        "\n",
        "where:\n",
        "\n",
        "$ dW_{i}^{2} $ is found using the derivative of the ReLu function\n",
        "\n",
        "## Backprop - Input layer\n",
        "weights in the input layer are not trainable/fixed"
      ],
      "metadata": {
        "id": "RV_a7DHDvGuB"
      },
      "id": "RV_a7DHDvGuB"
    },
    {
      "cell_type": "code",
      "source": [
        "from keras.models import Sequential\n",
        "from keras.layers import Embedding, Flatten, Dense\n",
        "\n",
        "model = Sequential()\n",
        "model.add(Embedding(max_words+1, embedding_dim, input_length=100)) #input_dim = amount of possible words output_dim = pretrained weights applied to input\n",
        "model.add(Flatten())\n",
        "model.add(Dense(32,activation='relu'))\n",
        "model.add(Dense(5,activation='softmax')) \n",
        "model.summary()"
      ],
      "metadata": {
        "colab": {
          "base_uri": "https://localhost:8080/"
        },
        "id": "uEZF_BYfWhBw",
        "outputId": "43c74c97-0ed1-441d-a98e-8e670858773d"
      },
      "id": "uEZF_BYfWhBw",
      "execution_count": 84,
      "outputs": [
        {
          "output_type": "stream",
          "name": "stdout",
          "text": [
            "Model: \"sequential_18\"\n",
            "_________________________________________________________________\n",
            " Layer (type)                Output Shape              Param #   \n",
            "=================================================================\n",
            " embedding_17 (Embedding)    (None, 100, 100)          1768000   \n",
            "                                                                 \n",
            " flatten_17 (Flatten)        (None, 10000)             0         \n",
            "                                                                 \n",
            " dense_34 (Dense)            (None, 32)                320032    \n",
            "                                                                 \n",
            " dense_35 (Dense)            (None, 5)                 165       \n",
            "                                                                 \n",
            "=================================================================\n",
            "Total params: 2,088,197\n",
            "Trainable params: 2,088,197\n",
            "Non-trainable params: 0\n",
            "_________________________________________________________________\n"
          ]
        }
      ]
    },
    {
      "cell_type": "code",
      "source": [
        "B = np.zeros(100)\n",
        "embedding_matrix2 = np.vstack([B,embedding_matrix])\n",
        "\n",
        "model.layers[0].set_weights([embedding_matrix2])\n",
        "model.layers[0].trainable = False # during backpropgation this layer is not updated"
      ],
      "metadata": {
        "id": "pqkoM28rdfqH"
      },
      "id": "pqkoM28rdfqH",
      "execution_count": 85,
      "outputs": []
    },
    {
      "cell_type": "code",
      "source": [
        "model.compile(optimizer='rmsprop', loss= 'sparse_categorical_crossentropy',metrics=['acc'])\n",
        "\n",
        "history = model.fit(x_train, y_train, epochs=20, batch_size=32, validation_data=(x_val, y_val))\n",
        "\n",
        "model.save_weights('pre_trained_glove_model.h5')"
      ],
      "metadata": {
        "colab": {
          "base_uri": "https://localhost:8080/"
        },
        "id": "N0MJ-lDCeLnJ",
        "outputId": "1b6f5a6c-0c1c-4178-c6e1-eb426fd435df"
      },
      "id": "N0MJ-lDCeLnJ",
      "execution_count": 86,
      "outputs": [
        {
          "output_type": "stream",
          "name": "stdout",
          "text": [
            "Epoch 1/20\n",
            "159/159 [==============================] - 2s 10ms/step - loss: 1.5437 - acc: 0.2896 - val_loss: 1.4789 - val_acc: 0.2814\n",
            "Epoch 2/20\n",
            "159/159 [==============================] - 1s 8ms/step - loss: 1.4324 - acc: 0.3330 - val_loss: 1.4934 - val_acc: 0.2877\n",
            "Epoch 3/20\n",
            "159/159 [==============================] - 1s 8ms/step - loss: 1.3545 - acc: 0.3949 - val_loss: 1.5368 - val_acc: 0.2547\n",
            "Epoch 4/20\n",
            "159/159 [==============================] - 1s 9ms/step - loss: 1.2389 - acc: 0.4572 - val_loss: 1.6373 - val_acc: 0.2241\n",
            "Epoch 5/20\n",
            "159/159 [==============================] - 1s 8ms/step - loss: 1.1081 - acc: 0.5317 - val_loss: 1.7136 - val_acc: 0.2374\n",
            "Epoch 6/20\n",
            "159/159 [==============================] - 2s 12ms/step - loss: 0.9715 - acc: 0.5990 - val_loss: 1.9702 - val_acc: 0.2225\n",
            "Epoch 7/20\n",
            "159/159 [==============================] - 1s 7ms/step - loss: 0.8470 - acc: 0.6556 - val_loss: 1.9678 - val_acc: 0.2193\n",
            "Epoch 8/20\n",
            "159/159 [==============================] - 1s 7ms/step - loss: 0.7501 - acc: 0.7002 - val_loss: 2.1883 - val_acc: 0.2146\n",
            "Epoch 9/20\n",
            "159/159 [==============================] - 1s 8ms/step - loss: 0.6519 - acc: 0.7448 - val_loss: 2.6576 - val_acc: 0.2500\n",
            "Epoch 10/20\n",
            "159/159 [==============================] - 2s 10ms/step - loss: 0.5939 - acc: 0.7639 - val_loss: 2.4009 - val_acc: 0.2044\n",
            "Epoch 11/20\n",
            "159/159 [==============================] - 2s 12ms/step - loss: 0.5346 - acc: 0.7883 - val_loss: 2.5339 - val_acc: 0.1910\n",
            "Epoch 12/20\n",
            "159/159 [==============================] - 1s 7ms/step - loss: 0.5017 - acc: 0.7981 - val_loss: 2.8041 - val_acc: 0.2060\n",
            "Epoch 13/20\n",
            "159/159 [==============================] - 1s 8ms/step - loss: 0.4787 - acc: 0.8040 - val_loss: 2.8652 - val_acc: 0.1973\n",
            "Epoch 14/20\n",
            "159/159 [==============================] - 1s 8ms/step - loss: 0.4584 - acc: 0.8066 - val_loss: 3.0227 - val_acc: 0.1918\n",
            "Epoch 15/20\n",
            "159/159 [==============================] - 1s 9ms/step - loss: 0.4429 - acc: 0.8138 - val_loss: 2.9334 - val_acc: 0.1965\n",
            "Epoch 16/20\n",
            "159/159 [==============================] - 1s 9ms/step - loss: 0.4260 - acc: 0.8160 - val_loss: 3.0916 - val_acc: 0.2036\n",
            "Epoch 17/20\n",
            "159/159 [==============================] - 1s 9ms/step - loss: 0.4256 - acc: 0.8132 - val_loss: 3.1868 - val_acc: 0.1918\n",
            "Epoch 18/20\n",
            "159/159 [==============================] - 1s 9ms/step - loss: 0.4072 - acc: 0.8154 - val_loss: 3.3808 - val_acc: 0.1926\n",
            "Epoch 19/20\n",
            "159/159 [==============================] - 1s 8ms/step - loss: 0.4009 - acc: 0.8127 - val_loss: 3.3365 - val_acc: 0.1863\n",
            "Epoch 20/20\n",
            "159/159 [==============================] - 1s 9ms/step - loss: 0.3887 - acc: 0.8176 - val_loss: 3.3415 - val_acc: 0.2036\n"
          ]
        }
      ]
    },
    {
      "cell_type": "markdown",
      "source": [
        "As there are 5 classes, random guesses would yield 20% (0.2 or 1/5) accuracy, thus, the model largely overfit on the test data which led to random guesses on the validation data\n",
        "\n",
        "I will now plot the results"
      ],
      "metadata": {
        "id": "VwxATaEvq9v7"
      },
      "id": "VwxATaEvq9v7"
    },
    {
      "cell_type": "code",
      "source": [
        "# class to plot results for all models\n",
        "\n",
        "def plot_results(accc,val_accc,losss,val_losss):\n",
        "  epochs = range(1,len(accc)+1)\n",
        "  plt.plot(epochs, accc, 'bo', label='Training acc')\n",
        "  plt.plot(epochs, val_accc, 'b', label='Validation acc')\n",
        "  plt.xlabel(\"epoch\")\n",
        "  plt.ylabel(\"accuracy\")\n",
        "  plt.title('Training and validation accuracy')\n",
        "  plt.legend()\n",
        "\n",
        "  plt.figure()\n",
        "\n",
        "  plt.plot(epochs, losss, 'bo', label='Training loss')\n",
        "  plt.plot(epochs, val_losss, 'b', label='Validation loss')\n",
        "  plt.xlabel(\"epoch\")\n",
        "  plt.ylabel(\"loss\")\n",
        "  plt.title('Training and validation loss')\n",
        "  plt.legend()\n",
        "  plt.show()\n",
        "    "
      ],
      "metadata": {
        "id": "igW1-6AGeolT"
      },
      "id": "igW1-6AGeolT",
      "execution_count": 87,
      "outputs": []
    },
    {
      "cell_type": "code",
      "source": [
        "plot_results(history.history['acc'],history.history['val_acc'],history.history['loss'],history.history['val_loss'])"
      ],
      "metadata": {
        "colab": {
          "base_uri": "https://localhost:8080/",
          "height": 573
        },
        "id": "oojktgjB9nbk",
        "outputId": "0592134c-6d59-4300-cd53-45cd027e1828"
      },
      "id": "oojktgjB9nbk",
      "execution_count": 88,
      "outputs": [
        {
          "output_type": "display_data",
          "data": {
            "text/plain": [
              "<Figure size 432x288 with 1 Axes>"
            ],
            "image/png": "[encoded data removed]"
          },
          "metadata": {
            "needs_background": "light"
          }
        },
        {
          "output_type": "display_data",
          "data": {
            "text/plain": [
              "<Figure size 432x288 with 1 Axes>"
            ],
            "image/png": "[encoded data removed]"
          },
          "metadata": {
            "needs_background": "light"
          }
        }
      ]
    },
    {
      "cell_type": "markdown",
      "source": [
        "The model closely overfit to the training data which led to very poor performance on the validation data, with accuracy amounting to a random guess. This is possibly due to the specialized nature of the sequences which would not have been fully mapped to the glove word embeddings, there must have been a large amount of information loss with many 0's in the dataset which have no meaning to the model. Sequences were also padded with 0's to match the word embedding data and an extra row of zeros was added to the weight vector at the input layer.\n",
        "\n",
        "Additionally, the model was trained on only 5000 samples"
      ],
      "metadata": {
        "id": "zd6U0LojPmQJ"
      },
      "id": "zd6U0LojPmQJ"
    },
    {
      "cell_type": "markdown",
      "source": [
        "### 2.3.3 Model 2\n",
        "\n",
        "The only difference between model 2 and model 1 is that a word embedding will be learnt from scratch so the input layer will be trainable and sequences will be padded to the longest sequence in the abstracts data."
      ],
      "metadata": {
        "id": "NM-mokDm_SUw"
      },
      "id": "NM-mokDm_SUw"
    },
    {
      "cell_type": "code",
      "source": [
        "# check if the lengths stayed the same\n",
        "[print(len(sequences[r(sequences)])) for i in range(20)]"
      ],
      "metadata": {
        "colab": {
          "base_uri": "https://localhost:8080/"
        },
        "id": "WwLxLeFVtjeH",
        "outputId": "782030fd-0f24-4e1c-b73b-f4a9e40c5cb4"
      },
      "id": "WwLxLeFVtjeH",
      "execution_count": 60,
      "outputs": [
        {
          "output_type": "stream",
          "name": "stdout",
          "text": [
            "42\n",
            "45\n",
            "44\n",
            "42\n",
            "41\n",
            "48\n",
            "43\n",
            "50\n",
            "46\n",
            "42\n",
            "41\n",
            "44\n",
            "39\n",
            "49\n",
            "46\n",
            "49\n",
            "47\n",
            "44\n",
            "49\n",
            "42\n"
          ]
        },
        {
          "output_type": "execute_result",
          "data": {
            "text/plain": [
              "[None,\n",
              " None,\n",
              " None,\n",
              " None,\n",
              " None,\n",
              " None,\n",
              " None,\n",
              " None,\n",
              " None,\n",
              " None,\n",
              " None,\n",
              " None,\n",
              " None,\n",
              " None,\n",
              " None,\n",
              " None,\n",
              " None,\n",
              " None,\n",
              " None,\n",
              " None]"
            ]
          },
          "metadata": {},
          "execution_count": 60
        }
      ]
    },
    {
      "cell_type": "code",
      "source": [
        "data2 = pad_sequences(sequences) # sequences will be padded to longest sequence in list\n",
        "\n",
        "data2 = data2[indices]\n",
        "\n",
        "x_train2 = data2[:training_samples]\n",
        "x_val2 = data2[training_samples:training_samples+validation_samples+1] # dimensions changed due to no longer using glove word embeddings\n",
        "x_test2 = data2[training_samples+validation_samples+1:training_samples+validation_samples+1+validation_samples]"
      ],
      "metadata": {
        "id": "QqDO9zpO_QD-"
      },
      "id": "QqDO9zpO_QD-",
      "execution_count": 90,
      "outputs": []
    },
    {
      "cell_type": "code",
      "source": [
        "sequence_vector = len(data2[1])\n",
        "\n",
        "model2 = Sequential()\n",
        "model2.add(Embedding(max_words+1, sequence_vector, input_length=sequence_vector)) #input_dim = amount of possible words output_dim = pretrained weights applied to input\n",
        "model2.add(Flatten())\n",
        "model2.add(Dense(32,activation='relu'))\n",
        "model2.add(Dense(5,activation='softmax')) \n",
        "model2.summary()\n",
        "\n",
        "model2.compile(optimizer='rmsprop', loss= 'sparse_categorical_crossentropy',metrics=['acc'])\n",
        "\n",
        "history2 = model2.fit(x_train2, y_train, epochs=20, batch_size=32, validation_data=(x_val2, y_val))\n"
      ],
      "metadata": {
        "colab": {
          "base_uri": "https://localhost:8080/"
        },
        "id": "OSlheVDbA1DV",
        "outputId": "1a99ecd8-9555-45de-b20a-0ae231cc8c1d"
      },
      "id": "OSlheVDbA1DV",
      "execution_count": 91,
      "outputs": [
        {
          "output_type": "stream",
          "name": "stdout",
          "text": [
            "Model: \"sequential_19\"\n",
            "_________________________________________________________________\n",
            " Layer (type)                Output Shape              Param #   \n",
            "=================================================================\n",
            " embedding_18 (Embedding)    (None, 61, 61)            1078480   \n",
            "                                                                 \n",
            " flatten_18 (Flatten)        (None, 3721)              0         \n",
            "                                                                 \n",
            " dense_36 (Dense)            (None, 32)                119104    \n",
            "                                                                 \n",
            " dense_37 (Dense)            (None, 5)                 165       \n",
            "                                                                 \n",
            "=================================================================\n",
            "Total params: 1,197,749\n",
            "Trainable params: 1,197,749\n",
            "Non-trainable params: 0\n",
            "_________________________________________________________________\n",
            "Epoch 1/20\n",
            "159/159 [==============================] - 2s 10ms/step - loss: 1.4792 - acc: 0.2959 - val_loss: 1.4561 - val_acc: 0.3082\n",
            "Epoch 2/20\n",
            "159/159 [==============================] - 2s 10ms/step - loss: 1.3296 - acc: 0.4914 - val_loss: 1.5039 - val_acc: 0.2940\n",
            "Epoch 3/20\n",
            "159/159 [==============================] - 2s 10ms/step - loss: 0.9386 - acc: 0.7450 - val_loss: 1.6796 - val_acc: 0.2783\n",
            "Epoch 4/20\n",
            "159/159 [==============================] - 2s 11ms/step - loss: 0.5671 - acc: 0.8144 - val_loss: 1.9287 - val_acc: 0.2610\n",
            "Epoch 5/20\n",
            "159/159 [==============================] - 2s 10ms/step - loss: 0.4156 - acc: 0.8429 - val_loss: 2.1419 - val_acc: 0.2500\n",
            "Epoch 6/20\n",
            "159/159 [==============================] - 2s 10ms/step - loss: 0.3607 - acc: 0.8484 - val_loss: 2.0780 - val_acc: 0.2492\n",
            "Epoch 7/20\n",
            "159/159 [==============================] - 2s 10ms/step - loss: 0.3272 - acc: 0.8528 - val_loss: 2.1776 - val_acc: 0.2555\n",
            "Epoch 8/20\n",
            "159/159 [==============================] - 2s 10ms/step - loss: 0.3016 - acc: 0.8445 - val_loss: 2.2311 - val_acc: 0.2618\n",
            "Epoch 9/20\n",
            "159/159 [==============================] - 2s 12ms/step - loss: 0.2825 - acc: 0.8443 - val_loss: 2.3142 - val_acc: 0.2539\n",
            "Epoch 10/20\n",
            "159/159 [==============================] - 2s 11ms/step - loss: 0.2632 - acc: 0.8484 - val_loss: 2.3756 - val_acc: 0.2610\n",
            "Epoch 11/20\n",
            "159/159 [==============================] - 2s 12ms/step - loss: 0.2484 - acc: 0.8500 - val_loss: 2.4645 - val_acc: 0.2516\n",
            "Epoch 12/20\n",
            "159/159 [==============================] - 2s 10ms/step - loss: 0.2343 - acc: 0.8453 - val_loss: 2.5023 - val_acc: 0.2579\n",
            "Epoch 13/20\n",
            "159/159 [==============================] - 2s 10ms/step - loss: 0.2176 - acc: 0.8502 - val_loss: 2.6447 - val_acc: 0.2492\n",
            "Epoch 14/20\n",
            "159/159 [==============================] - 2s 13ms/step - loss: 0.2083 - acc: 0.8445 - val_loss: 2.6802 - val_acc: 0.2492\n",
            "Epoch 15/20\n",
            "159/159 [==============================] - 2s 13ms/step - loss: 0.1963 - acc: 0.8534 - val_loss: 2.8930 - val_acc: 0.2571\n",
            "Epoch 16/20\n",
            "159/159 [==============================] - 2s 12ms/step - loss: 0.1868 - acc: 0.8581 - val_loss: 3.1481 - val_acc: 0.2484\n",
            "Epoch 17/20\n",
            "159/159 [==============================] - 2s 10ms/step - loss: 0.1842 - acc: 0.8659 - val_loss: 3.1148 - val_acc: 0.2461\n",
            "Epoch 18/20\n",
            "159/159 [==============================] - 2s 13ms/step - loss: 0.1807 - acc: 0.8677 - val_loss: 3.4405 - val_acc: 0.2547\n",
            "Epoch 19/20\n",
            "159/159 [==============================] - 2s 12ms/step - loss: 0.1785 - acc: 0.8683 - val_loss: 3.5543 - val_acc: 0.2492\n",
            "Epoch 20/20\n",
            "159/159 [==============================] - 2s 11ms/step - loss: 0.1788 - acc: 0.8679 - val_loss: 3.6509 - val_acc: 0.2689\n"
          ]
        }
      ]
    },
    {
      "cell_type": "code",
      "source": [
        "plot_results(history2.history['acc'],history2.history['val_acc'],history2.history['loss'],history2.history['val_loss'])\n"
      ],
      "metadata": {
        "colab": {
          "base_uri": "https://localhost:8080/",
          "height": 573
        },
        "id": "3IUoUyUZHe7n",
        "outputId": "35637636-cb58-46f8-a495-b0a89b5f883e"
      },
      "id": "3IUoUyUZHe7n",
      "execution_count": 92,
      "outputs": [
        {
          "output_type": "display_data",
          "data": {
            "text/plain": [
              "<Figure size 432x288 with 1 Axes>"
            ],
            "image/png": "[encoded data removed]"
          },
          "metadata": {
            "needs_background": "light"
          }
        },
        {
          "output_type": "display_data",
          "data": {
            "text/plain": [
              "<Figure size 432x288 with 1 Axes>"
            ],
            "image/png": "[encoded data removed]"
          },
          "metadata": {
            "needs_background": "light"
          }
        }
      ]
    },
    {
      "cell_type": "markdown",
      "source": [
        "There is less variation in the accuracy of model 2 and it learnt faster on the training data which suggests that it performed slightly better than model 1\n",
        "\n",
        "I will now add l2 regularization to model 2 to attempt to reduce overfitting"
      ],
      "metadata": {
        "id": "M0PH0AeXytFG"
      },
      "id": "M0PH0AeXytFG"
    },
    {
      "cell_type": "code",
      "source": [
        "from tensorflow.keras import regularizers\n",
        "model2_1 = Sequential()\n",
        "model2_1.add(Embedding(max_words+1, sequence_vector, input_length=sequence_vector)) #input_dim = amount of possible words output_dim = pretrained weights applied to input\n",
        "model2_1.add(Flatten())\n",
        "model2_1.add(Dense(32,activation='relu',kernel_regularizer=regularizers.l2(1e-4)))\n",
        "model2_1.add(Dense(5,activation='softmax')) \n",
        "model2_1.summary()\n",
        "\n",
        "model2_1.compile(optimizer='rmsprop', loss= 'sparse_categorical_crossentropy',metrics=['acc'])\n",
        "\n",
        "history2_1 = model2_1.fit(x_train2, y_train, epochs=20, batch_size=32, validation_data=(x_val2, y_val))"
      ],
      "metadata": {
        "colab": {
          "base_uri": "https://localhost:8080/"
        },
        "id": "YmCziK-VPEI0",
        "outputId": "41607b65-dabc-47df-b121-3ead700e1f3b"
      },
      "id": "YmCziK-VPEI0",
      "execution_count": 93,
      "outputs": [
        {
          "output_type": "stream",
          "name": "stdout",
          "text": [
            "Model: \"sequential_20\"\n",
            "_________________________________________________________________\n",
            " Layer (type)                Output Shape              Param #   \n",
            "=================================================================\n",
            " embedding_19 (Embedding)    (None, 61, 61)            1078480   \n",
            "                                                                 \n",
            " flatten_19 (Flatten)        (None, 3721)              0         \n",
            "                                                                 \n",
            " dense_38 (Dense)            (None, 32)                119104    \n",
            "                                                                 \n",
            " dense_39 (Dense)            (None, 5)                 165       \n",
            "                                                                 \n",
            "=================================================================\n",
            "Total params: 1,197,749\n",
            "Trainable params: 1,197,749\n",
            "Non-trainable params: 0\n",
            "_________________________________________________________________\n",
            "Epoch 1/20\n",
            "159/159 [==============================] - 3s 15ms/step - loss: 1.4950 - acc: 0.2986 - val_loss: 1.4714 - val_acc: 0.3042\n",
            "Epoch 2/20\n",
            "159/159 [==============================] - 2s 11ms/step - loss: 1.3840 - acc: 0.4354 - val_loss: 1.4796 - val_acc: 0.2846\n",
            "Epoch 3/20\n",
            "159/159 [==============================] - 2s 11ms/step - loss: 1.1335 - acc: 0.6532 - val_loss: 1.5683 - val_acc: 0.2877\n",
            "Epoch 4/20\n",
            "159/159 [==============================] - 2s 10ms/step - loss: 0.7959 - acc: 0.7779 - val_loss: 1.7599 - val_acc: 0.2539\n",
            "Epoch 5/20\n",
            "159/159 [==============================] - 2s 11ms/step - loss: 0.5626 - acc: 0.8207 - val_loss: 1.9746 - val_acc: 0.2586\n",
            "Epoch 6/20\n",
            "159/159 [==============================] - 2s 13ms/step - loss: 0.4563 - acc: 0.8205 - val_loss: 2.1322 - val_acc: 0.2634\n",
            "Epoch 7/20\n",
            "159/159 [==============================] - 2s 13ms/step - loss: 0.4062 - acc: 0.8252 - val_loss: 2.2383 - val_acc: 0.2642\n",
            "Epoch 8/20\n",
            "159/159 [==============================] - 2s 11ms/step - loss: 0.3747 - acc: 0.8366 - val_loss: 2.3196 - val_acc: 0.2642\n",
            "Epoch 9/20\n",
            "159/159 [==============================] - 2s 12ms/step - loss: 0.3518 - acc: 0.8490 - val_loss: 2.3765 - val_acc: 0.2657\n",
            "Epoch 10/20\n",
            "159/159 [==============================] - 2s 10ms/step - loss: 0.3327 - acc: 0.8490 - val_loss: 2.4603 - val_acc: 0.2697\n",
            "Epoch 11/20\n",
            "159/159 [==============================] - 2s 10ms/step - loss: 0.3220 - acc: 0.8496 - val_loss: 2.4610 - val_acc: 0.2610\n",
            "Epoch 12/20\n",
            "159/159 [==============================] - 2s 11ms/step - loss: 0.3157 - acc: 0.8473 - val_loss: 2.4813 - val_acc: 0.2665\n",
            "Epoch 13/20\n",
            "159/159 [==============================] - 2s 14ms/step - loss: 0.3050 - acc: 0.8461 - val_loss: 2.5655 - val_acc: 0.2508\n",
            "Epoch 14/20\n",
            "159/159 [==============================] - 2s 14ms/step - loss: 0.3014 - acc: 0.8461 - val_loss: 2.5483 - val_acc: 0.2657\n",
            "Epoch 15/20\n",
            "159/159 [==============================] - 2s 10ms/step - loss: 0.2931 - acc: 0.8478 - val_loss: 2.5486 - val_acc: 0.2602\n",
            "Epoch 16/20\n",
            "159/159 [==============================] - 2s 10ms/step - loss: 0.2921 - acc: 0.8449 - val_loss: 2.5369 - val_acc: 0.2539\n",
            "Epoch 17/20\n",
            "159/159 [==============================] - 2s 10ms/step - loss: 0.2879 - acc: 0.8447 - val_loss: 2.5559 - val_acc: 0.2516\n",
            "Epoch 18/20\n",
            "159/159 [==============================] - 2s 10ms/step - loss: 0.2802 - acc: 0.8537 - val_loss: 2.5758 - val_acc: 0.2783\n",
            "Epoch 19/20\n",
            "159/159 [==============================] - 2s 10ms/step - loss: 0.2777 - acc: 0.8486 - val_loss: 2.5833 - val_acc: 0.2579\n",
            "Epoch 20/20\n",
            "159/159 [==============================] - 2s 10ms/step - loss: 0.2750 - acc: 0.8484 - val_loss: 2.6266 - val_acc: 0.2642\n"
          ]
        }
      ]
    },
    {
      "cell_type": "code",
      "source": [
        "plot_results(history2_1.history['acc'],history2_1.history['val_acc'],history2_1.history['loss'],history2_1.history['val_loss'])\n"
      ],
      "metadata": {
        "colab": {
          "base_uri": "https://localhost:8080/",
          "height": 573
        },
        "id": "z4gnqg2IaZK3",
        "outputId": "0c5b7ecb-bfe1-4911-8eb5-178b2e322b31"
      },
      "id": "z4gnqg2IaZK3",
      "execution_count": 94,
      "outputs": [
        {
          "output_type": "display_data",
          "data": {
            "text/plain": [
              "<Figure size 432x288 with 1 Axes>"
            ],
            "image/png": "[encoded data removed]"
          },
          "metadata": {
            "needs_background": "light"
          }
        },
        {
          "output_type": "display_data",
          "data": {
            "text/plain": [
              "<Figure size 432x288 with 1 Axes>"
            ],
            "image/png": "[encoded data removed]"
          },
          "metadata": {
            "needs_background": "light"
          }
        }
      ]
    },
    {
      "cell_type": "markdown",
      "source": [
        "L2 regularization did not significantly improve the performance of this model\n"
      ],
      "metadata": {
        "id": "KAWKI7FA2DVE"
      },
      "id": "KAWKI7FA2DVE"
    },
    {
      "cell_type": "markdown",
      "source": [
        "# 3. Results\n",
        "\n",
        "Model 2 performed the best, although both models largely overfit to the training data and did not perform well on validation data. L2 regularization did not significantly improve the performance of the model\n",
        "\n",
        "I will now test this model on new data"
      ],
      "metadata": {
        "id": "pL5KmFBb33D-"
      },
      "id": "pL5KmFBb33D-"
    },
    {
      "cell_type": "code",
      "source": [
        "print(y_test.shape)"
      ],
      "metadata": {
        "colab": {
          "base_uri": "https://localhost:8080/"
        },
        "id": "I-llTmPk9yAG",
        "outputId": "36e02d1c-1e3d-4f43-dadf-366895e46c90"
      },
      "id": "I-llTmPk9yAG",
      "execution_count": 100,
      "outputs": [
        {
          "output_type": "stream",
          "name": "stdout",
          "text": [
            "(1271, 100)\n"
          ]
        }
      ]
    },
    {
      "cell_type": "code",
      "source": [
        "model2_1.evaluate(x_test2,y_test)"
      ],
      "metadata": {
        "colab": {
          "base_uri": "https://localhost:8080/"
        },
        "id": "KVSqscxi4-hJ",
        "outputId": "459fceb3-b4d6-4406-e731-42a72915cb30"
      },
      "id": "KVSqscxi4-hJ",
      "execution_count": 102,
      "outputs": [
        {
          "output_type": "stream",
          "name": "stdout",
          "text": [
            "40/40 [==============================] - 0s 2ms/step - loss: 2.6743 - acc: 0.2518\n"
          ]
        },
        {
          "output_type": "execute_result",
          "data": {
            "text/plain": [
              "[2.6743006706237793, 0.2517702579498291]"
            ]
          },
          "metadata": {},
          "execution_count": 102
        }
      ]
    },
    {
      "cell_type": "markdown",
      "source": [
        "# 4. Conclusion\n",
        "\n",
        "The model largely overfit to the training data due to there being a lack of data. Using a pre-trained word embedding led to slightly more variation in the validation accuracy but both models trended downwards towards 0.2 or 20% in validation accuracy, suggesting the model could not optimize the function for this data.\n",
        "\n",
        "There were 2,088,197 parameters in model 1 and 1,197,749 parameters in model 2 with only ~ 5000 training samples, so this is probably the cause of the overfitting\n",
        "\n",
        "L2 regularization did not significantly improve the model. More data would be needed to significantly reduce overfitting and determine whether this model architecture can find the optimal parameters for a function of this type of data. Although, research has shown that more complex architectures are needed for nlp tasks where classes are highly co-linear."
      ],
      "metadata": {
        "id": "VbwvIEX0ozfl"
      },
      "id": "VbwvIEX0ozfl"
    },
    {
      "cell_type": "markdown",
      "source": [
        "# 5. References\n",
        "\n",
        "[1] F. Chollet, Deep learning with Python, New York: Manning Publications, 2018, pp. 170.\n",
        "\n",
        "[2] I. Goodfellow, Y. Bengio, A. Courville, Deep Learning,  Massachusetts: MIT press, 2017.\n",
        "\n",
        "[3] A. Ng, “RMSProp (C2W2L07)“, YouTube, 25 Aug, 2017. [Video file]. Available: https://youtu.be/_e-LFe_igno [Accessed: Nov. 12, 2022].\n"
      ],
      "metadata": {
        "id": "4y3WeI-BColJ"
      },
      "id": "4y3WeI-BColJ"
    }
  ],
  "metadata": {
    "kernelspec": {
      "display_name": "Python 3 (ipykernel)",
      "language": "python",
      "name": "python3"
    },
    "language_info": {
      "codemirror_mode": {
        "name": "ipython",
        "version": 3
      },
      "file_extension": ".py",
      "mimetype": "text/x-python",
      "name": "python",
      "nbconvert_exporter": "python",
      "pygments_lexer": "ipython3",
      "version": "3.9.12"
    },
    "colab": {
      "provenance": [],
      "collapsed_sections": [],
      "toc_visible": true
    }
  },
  "nbformat": 4,
  "nbformat_minor": 5
}
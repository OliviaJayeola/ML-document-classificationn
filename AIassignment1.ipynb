{
  "cells": [
    {
      "cell_type": "markdown",
      "id": "6b17548c",
      "metadata": {
        "id": "6b17548c"
      },
      "source": [
        "# Document Classification of Computer Science Article Abstracts"
      ]
    },
    {
      "cell_type": "markdown",
      "id": "0c57b482",
      "metadata": {
        "id": "0c57b482"
      },
      "source": [
        "# Contents"
      ]
    },
    {
      "cell_type": "markdown",
      "id": "03432da3",
      "metadata": {
        "id": "03432da3"
      },
      "source": [
        "# 1. Introduction "
      ]
    },
    {
      "cell_type": "markdown",
      "id": "cfd64ee6",
      "metadata": {
        "id": "cfd64ee6"
      },
      "source": [
        "# 2. Methodology"
      ]
    },
    {
      "cell_type": "markdown",
      "id": "751ba1c0",
      "metadata": {
        "id": "751ba1c0"
      },
      "source": [
        "## 2.1 Webscraping abstracts from core.ac.uk"
      ]
    },
    {
      "cell_type": "code",
      "source": [
        "# Due to the large amount of requests, I executed this code in a seperate notebook and created a csv file\n",
        "# below is the code used to create this file\n",
        "\n",
        "#import requests\n",
        "#from bs4 import BeautifulSoup as btfs\n",
        "#import re \n",
        "#abstracts = []\n",
        "\n",
        "#def webscrape(part1,part2):\n",
        "    #count = 0\n",
        "    #for i in range(0,201):\n",
        "        #html = requests.get('https://core.ac.uk/search?q='+part1+'+'+part2+\n",
        "                            #'+AND+fieldsOfStudy%3A\"computer+science\"&page='+str(i)).text\n",
        "        #soup = btfs(html,'html.parser')\n",
        "\n",
        "        #for link in soup.find_all('span'):\n",
        "            #if len(str(link)) > 600:\n",
        "                #text = btfs(str(link),\"lxml\").text\n",
        "                #if text[0] != 'ℓ':\n",
        "                    #if text[0] != '1':\n",
        "                        #abstracts.append(text[0:300])\n",
        "                        #count += 1\n",
        "    #print(count)"
      ],
      "metadata": {
        "id": "WEDjqXE6RMRh"
      },
      "id": "WEDjqXE6RMRh",
      "execution_count": null,
      "outputs": []
    },
    {
      "cell_type": "code",
      "source": [
        "#def webscrape2(part1,part2):\n",
        "    #count = 0\n",
        "    #for i in range(201,502):\n",
        "        #html = requests.get('https://core.ac.uk/search?q='+part1+'+'+part2+\n",
        "                            #'+AND+fieldsOfStudy%3A\"computer+science\"&page='+str(i)).text\n",
        "        #soup = btfs(html,'html.parser')\n",
        "\n",
        "        #for link in soup.find_all('span'):\n",
        "            #if len(str(link)) > 600:\n",
        "                #text = btfs(str(link),\"lxml\").text\n",
        "                #if text[0] != 'ℓ':\n",
        "                    #if text[0] != '1':\n",
        "                        #abstracts.append(text[0:300])\n",
        "                        #count += 1\n",
        "    #print(count)"
      ],
      "metadata": {
        "id": "job4t_RpOcph"
      },
      "id": "job4t_RpOcph",
      "execution_count": null,
      "outputs": []
    },
    {
      "cell_type": "code",
      "source": [
        "#webscrape('reinforcement','learning')"
      ],
      "metadata": {
        "id": "Bn1xh8K_Om71"
      },
      "id": "Bn1xh8K_Om71",
      "execution_count": null,
      "outputs": []
    },
    {
      "cell_type": "code",
      "source": [
        "#webscrape('supervised','learning')"
      ],
      "metadata": {
        "id": "hfNbrZQPOtlo"
      },
      "id": "hfNbrZQPOtlo",
      "execution_count": null,
      "outputs": []
    },
    {
      "cell_type": "code",
      "source": [
        "#webscrape('unsupervised', 'learning')"
      ],
      "metadata": {
        "id": "LSGwcySNOt3T"
      },
      "id": "LSGwcySNOt3T",
      "execution_count": null,
      "outputs": []
    },
    {
      "cell_type": "code",
      "source": [
        "#webscrape('inductive','learning')"
      ],
      "metadata": {
        "id": "sYCgNgN-Ot_H"
      },
      "id": "sYCgNgN-Ot_H",
      "execution_count": null,
      "outputs": []
    },
    {
      "cell_type": "code",
      "source": [
        "#webscrape('transfer','learning')"
      ],
      "metadata": {
        "id": "3lQdbyAIOuFo"
      },
      "id": "3lQdbyAIOuFo",
      "execution_count": null,
      "outputs": []
    },
    {
      "cell_type": "code",
      "source": [
        "#webscrape2('reinforcement','learning')"
      ],
      "metadata": {
        "id": "btvg8KjHOuLX"
      },
      "id": "btvg8KjHOuLX",
      "execution_count": null,
      "outputs": []
    },
    {
      "cell_type": "code",
      "source": [
        "#webscrape2('supervised','learning')"
      ],
      "metadata": {
        "id": "X2L9lbbLOuQj"
      },
      "id": "X2L9lbbLOuQj",
      "execution_count": null,
      "outputs": []
    },
    {
      "cell_type": "code",
      "source": [
        "#webscrape2('unsupervised', 'learning')"
      ],
      "metadata": {
        "id": "gR9wagXTOuWC"
      },
      "id": "gR9wagXTOuWC",
      "execution_count": null,
      "outputs": []
    },
    {
      "cell_type": "code",
      "source": [
        "#webscrape2('inductive','learning')"
      ],
      "metadata": {
        "id": "Bh1NuNxNOuat"
      },
      "id": "Bh1NuNxNOuat",
      "execution_count": null,
      "outputs": []
    },
    {
      "cell_type": "code",
      "source": [
        "#webscrape2('transfer','learning')"
      ],
      "metadata": {
        "id": "OuPQHfvnOufZ"
      },
      "id": "OuPQHfvnOufZ",
      "execution_count": null,
      "outputs": []
    },
    {
      "cell_type": "code",
      "source": [
        "#labels = ['reinforcement learning' for i in range(1248)]\n",
        "#[labels.append('supervised learning') for i in range(1399)]\n",
        "#[labels.append('unsupervised learning') for i in range(1223)]\n",
        "#[labels.append('inductive learning') for i in range(260)]\n",
        "#[labels.append('transfer learning') for i in range(879)]\n",
        "#[labels.append('supervised learning') for i in range(917)]\n",
        "#[labels.append('unsupervised learning') for i in range(606)]\n",
        "#[labels.append('transfer learning') for i in range(1099)]"
      ],
      "metadata": {
        "id": "R3LDmintOujT"
      },
      "id": "R3LDmintOujT",
      "execution_count": null,
      "outputs": []
    },
    {
      "cell_type": "code",
      "source": [
        "#import pandas as pd\n",
        "#data = list(zip(labels,abstracts))\n",
        "#df = pd.DataFrame(data, columns=['Label','Abstract'])"
      ],
      "metadata": {
        "id": "PykOhPasOunk"
      },
      "id": "PykOhPasOunk",
      "execution_count": null,
      "outputs": []
    },
    {
      "cell_type": "code",
      "source": [
        "#df.to_csv('abstracts.csv', index=False)"
      ],
      "metadata": {
        "id": "52R4lfucOuqo"
      },
      "id": "52R4lfucOuqo",
      "execution_count": null,
      "outputs": []
    },
    {
      "cell_type": "code",
      "source": [
        "from google.colab import files\n",
        "import io\n",
        "\n",
        "uploaded = files.upload()\n"
      ],
      "metadata": {
        "colab": {
          "base_uri": "https://localhost:8080/",
          "height": 74
        },
        "id": "eyN7mqulSMBs",
        "outputId": "154a8184-9e4b-4a8d-dd7f-1c1c8ea106a2"
      },
      "id": "eyN7mqulSMBs",
      "execution_count": 6,
      "outputs": [
        {
          "output_type": "display_data",
          "data": {
            "text/plain": [
              "<IPython.core.display.HTML object>"
            ],
            "text/html": [
              "\n",
              "     <input type=\"file\" id=\"files-0f144d15-be61-4f93-a7d0-6f96fbe102b2\" name=\"files[]\" multiple disabled\n",
              "        style=\"border:none\" />\n",
              "     <output id=\"result-0f144d15-be61-4f93-a7d0-6f96fbe102b2\">\n",
              "      Upload widget is only available when the cell has been executed in the\n",
              "      current browser session. Please rerun this cell to enable.\n",
              "      </output>\n",
              "      <script>// Copyright 2017 Google LLC\n",
              "//\n",
              "// Licensed under the Apache License, Version 2.0 (the \"License\");\n",
              "// you may not use this file except in compliance with the License.\n",
              "// You may obtain a copy of the License at\n",
              "//\n",
              "//      http://www.apache.org/licenses/LICENSE-2.0\n",
              "//\n",
              "// Unless required by applicable law or agreed to in writing, software\n",
              "// distributed under the License is distributed on an \"AS IS\" BASIS,\n",
              "// WITHOUT WARRANTIES OR CONDITIONS OF ANY KIND, either express or implied.\n",
              "// See the License for the specific language governing permissions and\n",
              "// limitations under the License.\n",
              "\n",
              "/**\n",
              " * @fileoverview Helpers for google.colab Python module.\n",
              " */\n",
              "(function(scope) {\n",
              "function span(text, styleAttributes = {}) {\n",
              "  const element = document.createElement('span');\n",
              "  element.textContent = text;\n",
              "  for (const key of Object.keys(styleAttributes)) {\n",
              "    element.style[key] = styleAttributes[key];\n",
              "  }\n",
              "  return element;\n",
              "}\n",
              "\n",
              "// Max number of bytes which will be uploaded at a time.\n",
              "const MAX_PAYLOAD_SIZE = 100 * 1024;\n",
              "\n",
              "function _uploadFiles(inputId, outputId) {\n",
              "  const steps = uploadFilesStep(inputId, outputId);\n",
              "  const outputElement = document.getElementById(outputId);\n",
              "  // Cache steps on the outputElement to make it available for the next call\n",
              "  // to uploadFilesContinue from Python.\n",
              "  outputElement.steps = steps;\n",
              "\n",
              "  return _uploadFilesContinue(outputId);\n",
              "}\n",
              "\n",
              "// This is roughly an async generator (not supported in the browser yet),\n",
              "// where there are multiple asynchronous steps and the Python side is going\n",
              "// to poll for completion of each step.\n",
              "// This uses a Promise to block the python side on completion of each step,\n",
              "// then passes the result of the previous step as the input to the next step.\n",
              "function _uploadFilesContinue(outputId) {\n",
              "  const outputElement = document.getElementById(outputId);\n",
              "  const steps = outputElement.steps;\n",
              "\n",
              "  const next = steps.next(outputElement.lastPromiseValue);\n",
              "  return Promise.resolve(next.value.promise).then((value) => {\n",
              "    // Cache the last promise value to make it available to the next\n",
              "    // step of the generator.\n",
              "    outputElement.lastPromiseValue = value;\n",
              "    return next.value.response;\n",
              "  });\n",
              "}\n",
              "\n",
              "/**\n",
              " * Generator function which is called between each async step of the upload\n",
              " * process.\n",
              " * @param {string} inputId Element ID of the input file picker element.\n",
              " * @param {string} outputId Element ID of the output display.\n",
              " * @return {!Iterable<!Object>} Iterable of next steps.\n",
              " */\n",
              "function* uploadFilesStep(inputId, outputId) {\n",
              "  const inputElement = document.getElementById(inputId);\n",
              "  inputElement.disabled = false;\n",
              "\n",
              "  const outputElement = document.getElementById(outputId);\n",
              "  outputElement.innerHTML = '';\n",
              "\n",
              "  const pickedPromise = new Promise((resolve) => {\n",
              "    inputElement.addEventListener('change', (e) => {\n",
              "      resolve(e.target.files);\n",
              "    });\n",
              "  });\n",
              "\n",
              "  const cancel = document.createElement('button');\n",
              "  inputElement.parentElement.appendChild(cancel);\n",
              "  cancel.textContent = 'Cancel upload';\n",
              "  const cancelPromise = new Promise((resolve) => {\n",
              "    cancel.onclick = () => {\n",
              "      resolve(null);\n",
              "    };\n",
              "  });\n",
              "\n",
              "  // Wait for the user to pick the files.\n",
              "  const files = yield {\n",
              "    promise: Promise.race([pickedPromise, cancelPromise]),\n",
              "    response: {\n",
              "      action: 'starting',\n",
              "    }\n",
              "  };\n",
              "\n",
              "  cancel.remove();\n",
              "\n",
              "  // Disable the input element since further picks are not allowed.\n",
              "  inputElement.disabled = true;\n",
              "\n",
              "  if (!files) {\n",
              "    return {\n",
              "      response: {\n",
              "        action: 'complete',\n",
              "      }\n",
              "    };\n",
              "  }\n",
              "\n",
              "  for (const file of files) {\n",
              "    const li = document.createElement('li');\n",
              "    li.append(span(file.name, {fontWeight: 'bold'}));\n",
              "    li.append(span(\n",
              "        `(${file.type || 'n/a'}) - ${file.size} bytes, ` +\n",
              "        `last modified: ${\n",
              "            file.lastModifiedDate ? file.lastModifiedDate.toLocaleDateString() :\n",
              "                                    'n/a'} - `));\n",
              "    const percent = span('0% done');\n",
              "    li.appendChild(percent);\n",
              "\n",
              "    outputElement.appendChild(li);\n",
              "\n",
              "    const fileDataPromise = new Promise((resolve) => {\n",
              "      const reader = new FileReader();\n",
              "      reader.onload = (e) => {\n",
              "        resolve(e.target.result);\n",
              "      };\n",
              "      reader.readAsArrayBuffer(file);\n",
              "    });\n",
              "    // Wait for the data to be ready.\n",
              "    let fileData = yield {\n",
              "      promise: fileDataPromise,\n",
              "      response: {\n",
              "        action: 'continue',\n",
              "      }\n",
              "    };\n",
              "\n",
              "    // Use a chunked sending to avoid message size limits. See b/62115660.\n",
              "    let position = 0;\n",
              "    do {\n",
              "      const length = Math.min(fileData.byteLength - position, MAX_PAYLOAD_SIZE);\n",
              "      const chunk = new Uint8Array(fileData, position, length);\n",
              "      position += length;\n",
              "\n",
              "      const base64 = btoa(String.fromCharCode.apply(null, chunk));\n",
              "      yield {\n",
              "        response: {\n",
              "          action: 'append',\n",
              "          file: file.name,\n",
              "          data: base64,\n",
              "        },\n",
              "      };\n",
              "\n",
              "      let percentDone = fileData.byteLength === 0 ?\n",
              "          100 :\n",
              "          Math.round((position / fileData.byteLength) * 100);\n",
              "      percent.textContent = `${percentDone}% done`;\n",
              "\n",
              "    } while (position < fileData.byteLength);\n",
              "  }\n",
              "\n",
              "  // All done.\n",
              "  yield {\n",
              "    response: {\n",
              "      action: 'complete',\n",
              "    }\n",
              "  };\n",
              "}\n",
              "\n",
              "scope.google = scope.google || {};\n",
              "scope.google.colab = scope.google.colab || {};\n",
              "scope.google.colab._files = {\n",
              "  _uploadFiles,\n",
              "  _uploadFilesContinue,\n",
              "};\n",
              "})(self);\n",
              "</script> "
            ]
          },
          "metadata": {}
        },
        {
          "output_type": "stream",
          "name": "stdout",
          "text": [
            "Saving abstracts.csv to abstracts.csv\n"
          ]
        }
      ]
    },
    {
      "cell_type": "code",
      "source": [
        "df = pd.read_csv(io.BytesIO(uploaded['abstracts.csv']))"
      ],
      "metadata": {
        "id": "9bKzIeG8chTM"
      },
      "id": "9bKzIeG8chTM",
      "execution_count": 7,
      "outputs": []
    },
    {
      "cell_type": "code",
      "source": [
        "print(df)"
      ],
      "metadata": {
        "colab": {
          "base_uri": "https://localhost:8080/"
        },
        "id": "tCWf0rr6c7Z_",
        "outputId": "3f877284-c8c4-486e-dcb4-379b18cd8795"
      },
      "id": "tCWf0rr6c7Z_",
      "execution_count": 10,
      "outputs": [
        {
          "output_type": "stream",
          "name": "stdout",
          "text": [
            "                       Label  \\\n",
            "0     reinforcement learning   \n",
            "1     reinforcement learning   \n",
            "2     reinforcement learning   \n",
            "3     reinforcement learning   \n",
            "4     reinforcement learning   \n",
            "...                      ...   \n",
            "7626       transfer learning   \n",
            "7627       transfer learning   \n",
            "7628       transfer learning   \n",
            "7629       transfer learning   \n",
            "7630       transfer learning   \n",
            "\n",
            "                                               Abstract  \n",
            "0     In this article we study the transfer learning...  \n",
            "1     Cross-situational word learning is based on th...  \n",
            "2     In recent years, attention has been focused on...  \n",
            "3     Reinforcement learning is considered to be a s...  \n",
            "4     Join order selection plays a significant role ...  \n",
            "...                                                 ...  \n",
            "7626  The multiple ideal query (MIQ) model was intro...  \n",
            "7627  Evaluation of business processes plays a signi...  \n",
            "7628  The design process of complex systems in all t...  \n",
            "7629  The mobile data traffic has risen exponentiall...  \n",
            "7630  A software framework is an architecture or inf...  \n",
            "\n",
            "[7631 rows x 2 columns]\n"
          ]
        }
      ]
    },
    {
      "cell_type": "code",
      "source": [
        "import pandas as pd\n",
        "import numpy as np\n",
        "\n",
        "# create a new column label_type that corresponds to values in label column\n",
        "\n",
        "labeldict = {'reinforcement learning':1,'supervised learning':2,'unsupervised learning':3,'inductive learning':4,'transfer learning':5}\n",
        "\n",
        "# for each row in the new column, if the corresponding row in Label is a key in the dictionary the row in the new column will be set to \n",
        "# the value of the matching key, if not it will be set to 0\n",
        "for i in range(len(df)):\n",
        "  df.loc[i,'label_type'] = np.where(df.loc[i,'Label'] in labeldict.keys(), labeldict[str(df.loc[i,'Label'])], 0)\n"
      ],
      "metadata": {
        "id": "q94wKHf_nrmo"
      },
      "id": "q94wKHf_nrmo",
      "execution_count": 98,
      "outputs": []
    },
    {
      "cell_type": "code",
      "source": [
        "# check that everything was coded correctly, there are no rows with 0\n",
        "#print(df.loc[df['label_type']==1])\n",
        "#print(df.loc[df['label_type']==2])\n",
        "#print(df.loc[df['label_type']==3])\n",
        "#print(df.loc[df['label_type']==4])\n",
        "#print(df.loc[df['label_type']==5])\n",
        "#print(df.loc[df['label_type']==0])\n",
        " "
      ],
      "metadata": {
        "colab": {
          "base_uri": "https://localhost:8080/"
        },
        "id": "n1NCLPIL8lwz",
        "outputId": "3fd04948-be13-4136-fc78-dcd08c7963d3"
      },
      "id": "n1NCLPIL8lwz",
      "execution_count": 102,
      "outputs": [
        {
          "output_type": "stream",
          "name": "stdout",
          "text": [
            "Empty DataFrame\n",
            "Columns: [Label, Abstract, label_type]\n",
            "Index: []\n"
          ]
        }
      ]
    },
    {
      "cell_type": "code",
      "source": [],
      "metadata": {
        "id": "_0siOhQlHees"
      },
      "id": "_0siOhQlHees",
      "execution_count": null,
      "outputs": []
    }
  ],
  "metadata": {
    "kernelspec": {
      "display_name": "Python 3 (ipykernel)",
      "language": "python",
      "name": "python3"
    },
    "language_info": {
      "codemirror_mode": {
        "name": "ipython",
        "version": 3
      },
      "file_extension": ".py",
      "mimetype": "text/x-python",
      "name": "python",
      "nbconvert_exporter": "python",
      "pygments_lexer": "ipython3",
      "version": "3.9.12"
    },
    "colab": {
      "provenance": [],
      "collapsed_sections": []
    }
  },
  "nbformat": 4,
  "nbformat_minor": 5
}